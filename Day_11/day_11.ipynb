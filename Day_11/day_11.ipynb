{
 "cells": [
  {
   "cell_type": "markdown",
   "metadata": {},
   "source": [
    "## LEVEL 1"
   ]
  },
  {
   "cell_type": "markdown",
   "metadata": {},
   "source": [
    "### 1"
   ]
  },
  {
   "cell_type": "code",
   "execution_count": 4,
   "metadata": {},
   "outputs": [
    {
     "name": "stdout",
     "output_type": "stream",
     "text": [
      "<function add_two_numbers at 0x7fc2a46dacb0>\n"
     ]
    }
   ],
   "source": [
    "import math\n",
    "\n",
    "# Task 1: Add two numbers\n",
    "def add_two_numbers(num1, num2):\n",
    "    return num1 + num2\n",
    "\n",
    "print(add_two_numbers)"
   ]
  },
  {
   "cell_type": "markdown",
   "metadata": {},
   "source": [
    "### 2"
   ]
  },
  {
   "cell_type": "code",
   "execution_count": 2,
   "metadata": {},
   "outputs": [],
   "source": [
    "# Task 2: Calculate area of a circle\n",
    "def area_of_circle(radius):\n",
    "    return math.pi * radius ** 2"
   ]
  },
  {
   "cell_type": "markdown",
   "metadata": {},
   "source": [
    "### 3"
   ]
  },
  {
   "cell_type": "code",
   "execution_count": 3,
   "metadata": {},
   "outputs": [],
   "source": [
    "# Task 3: Add all numbers\n",
    "def add_all_nums(*args):\n",
    "    if all(isinstance(num, (int, float)) for num in args):\n",
    "        return sum(args)\n",
    "    else:\n",
    "        return \"Please provide a list of numeric values.\"\n"
   ]
  },
  {
   "cell_type": "markdown",
   "metadata": {},
   "source": [
    "### 4"
   ]
  },
  {
   "cell_type": "code",
   "execution_count": null,
   "metadata": {},
   "outputs": [],
   "source": [
    "# Task 4: Convert Celsius to Fahrenheit\n",
    "def convert_celsius_to_fahrenheit(celsius):\n",
    "    return (celsius * 9/5) + 32"
   ]
  },
  {
   "cell_type": "markdown",
   "metadata": {},
   "source": [
    "### 5"
   ]
  },
  {
   "cell_type": "code",
   "execution_count": null,
   "metadata": {},
   "outputs": [],
   "source": [
    "# Task 5: Check season\n",
    "def check_season(month):\n",
    "    if month.lower() in ['december', 'january', 'february']:\n",
    "        return 'Winter'\n",
    "    elif month.lower() in ['march', 'april', 'may']:\n",
    "        return 'Spring'\n",
    "    elif month.lower() in ['june', 'july', 'august']:\n",
    "        return 'Summer'\n",
    "    elif month.lower() in ['september', 'october', 'november']:\n",
    "        return 'Autumn'\n",
    "    else:\n",
    "        return 'Invalid month.'"
   ]
  },
  {
   "cell_type": "markdown",
   "metadata": {},
   "source": [
    "### 6"
   ]
  },
  {
   "cell_type": "code",
   "execution_count": null,
   "metadata": {},
   "outputs": [],
   "source": [
    "# Task 6: Calculate slope of a linear equation\n",
    "def calculate_slope(x1, y1, x2, y2):\n",
    "    return (y2 - y1) / (x2 - x1)"
   ]
  },
  {
   "cell_type": "markdown",
   "metadata": {},
   "source": [
    "### 7"
   ]
  },
  {
   "cell_type": "code",
   "execution_count": null,
   "metadata": {},
   "outputs": [],
   "source": [
    "# Task 7: Solve quadratic equation\n",
    "def solve_quadratic_eqn(a, b, c):\n",
    "    discriminant = b**2 - 4*a*c\n",
    "    if discriminant > 0:\n",
    "        x1 = (-b + math.sqrt(discriminant)) / (2*a)\n",
    "        x2 = (-b - math.sqrt(discriminant)) / (2*a)\n",
    "        return x1, x2\n",
    "    elif discriminant == 0:\n",
    "        x = -b / (2*a)\n",
    "        return x,\n",
    "    else:\n",
    "        return \"No real roots\""
   ]
  },
  {
   "cell_type": "markdown",
   "metadata": {},
   "source": [
    "### 8"
   ]
  },
  {
   "cell_type": "code",
   "execution_count": null,
   "metadata": {},
   "outputs": [],
   "source": [
    "# Task 8: Print list\n",
    "def print_list(lst):\n",
    "    for item in lst:\n",
    "        print(item)"
   ]
  },
  {
   "cell_type": "markdown",
   "metadata": {},
   "source": [
    "### 9"
   ]
  },
  {
   "cell_type": "code",
   "execution_count": null,
   "metadata": {},
   "outputs": [],
   "source": [
    "# Task 9: Reverse list\n",
    "def reverse_list(lst):\n",
    "    return lst[::-1]"
   ]
  },
  {
   "cell_type": "markdown",
   "metadata": {},
   "source": [
    "### 10"
   ]
  },
  {
   "cell_type": "code",
   "execution_count": null,
   "metadata": {},
   "outputs": [],
   "source": [
    "# Task 10: Capitalize list items\n",
    "def capitalize_list_items(lst):\n",
    "    return [item.capitalize() for item in lst]"
   ]
  },
  {
   "cell_type": "markdown",
   "metadata": {},
   "source": [
    "### 11"
   ]
  },
  {
   "cell_type": "code",
   "execution_count": null,
   "metadata": {},
   "outputs": [],
   "source": [
    "# Task 11: Add item to list\n",
    "def add_item(lst, item):\n",
    "    lst.append(item)\n",
    "    return lst"
   ]
  },
  {
   "cell_type": "markdown",
   "metadata": {},
   "source": [
    "### 12"
   ]
  },
  {
   "cell_type": "code",
   "execution_count": null,
   "metadata": {},
   "outputs": [],
   "source": [
    "# Task 12: Remove item from list\n",
    "def remove_item(lst, item):\n",
    "    if item in lst:\n",
    "        lst.remove(item)\n",
    "    return lst"
   ]
  },
  {
   "cell_type": "markdown",
   "metadata": {},
   "source": [
    "### 13\n"
   ]
  },
  {
   "cell_type": "code",
   "execution_count": null,
   "metadata": {},
   "outputs": [],
   "source": [
    "# Task 13: Sum of numbers\n",
    "def sum_of_numbers(n):\n",
    "    return sum(range(1, n+1))"
   ]
  },
  {
   "cell_type": "markdown",
   "metadata": {},
   "source": [
    "### 14"
   ]
  },
  {
   "cell_type": "code",
   "execution_count": null,
   "metadata": {},
   "outputs": [],
   "source": [
    "# Task 14: Sum of odds\n",
    "def sum_of_odds(n):\n",
    "    return sum(i for i in range(1, n+1) if i % 2 != 0)\n"
   ]
  },
  {
   "cell_type": "markdown",
   "metadata": {},
   "source": [
    "### 15"
   ]
  },
  {
   "cell_type": "code",
   "execution_count": 5,
   "metadata": {},
   "outputs": [
    {
     "name": "stdout",
     "output_type": "stream",
     "text": [
      "<function sum_of_even at 0x7fc2a46d9bd0>\n"
     ]
    }
   ],
   "source": [
    "# Task 15: Sum of evens\n",
    "def sum_of_even(n):\n",
    "    return sum(i for i in range(1, n+1) if i % 2 == 0)\n",
    "\n",
    "print(sum_of_even)"
   ]
  },
  {
   "cell_type": "markdown",
   "metadata": {},
   "source": [
    "## LEVEL 2"
   ]
  },
  {
   "cell_type": "markdown",
   "metadata": {},
   "source": [
    "### 1"
   ]
  },
  {
   "cell_type": "code",
   "execution_count": 8,
   "metadata": {},
   "outputs": [
    {
     "name": "stdout",
     "output_type": "stream",
     "text": [
      "The number of odds are 1.\n",
      "The number of evens are 2.\n"
     ]
    }
   ],
   "source": [
    "# Task 1: Count evens and odds\n",
    "def evens_and_odds(number):\n",
    "    evens = sum(1 for digit in str(number) if int(digit) % 2 == 0)\n",
    "    odds = sum(1 for digit in str(number) if int(digit) % 2 != 0)\n",
    "    return f\"The number of odds are {odds}.\\nThe number of evens are {evens}.\"\n",
    "print(evens_and_odds(100))"
   ]
  },
  {
   "cell_type": "markdown",
   "metadata": {},
   "source": [
    "### 1"
   ]
  },
  {
   "cell_type": "code",
   "execution_count": 9,
   "metadata": {},
   "outputs": [
    {
     "name": "stdout",
     "output_type": "stream",
     "text": [
      "120\n"
     ]
    }
   ],
   "source": [
    "# Task 2: Factorial\n",
    "def factorial(n):\n",
    "    if n == 0 or n == 1:\n",
    "        return 1\n",
    "    else:\n",
    "        return n * factorial(n-1)\n",
    "print(factorial(5))"
   ]
  },
  {
   "cell_type": "markdown",
   "metadata": {},
   "source": [
    "### 2"
   ]
  },
  {
   "cell_type": "code",
   "execution_count": 10,
   "metadata": {},
   "outputs": [
    {
     "name": "stdout",
     "output_type": "stream",
     "text": [
      "True\n"
     ]
    }
   ],
   "source": [
    "# Task 3: Check if it is empty\n",
    "def is_empty(value):\n",
    "    return not bool(value)\n",
    "print(is_empty([]))"
   ]
  },
  {
   "cell_type": "markdown",
   "metadata": {},
   "source": [
    "### 3"
   ]
  },
  {
   "cell_type": "markdown",
   "metadata": {},
   "source": [
    "### a"
   ]
  },
  {
   "cell_type": "code",
   "execution_count": 11,
   "metadata": {},
   "outputs": [
    {
     "name": "stdout",
     "output_type": "stream",
     "text": [
      "Mean: 5.090909090909091\n"
     ]
    }
   ],
   "source": [
    "# Task 4: Calculate mean\n",
    "def calculate_mean(nums):\n",
    "    return sum(nums) / len(nums)\n",
    "\n",
    "data = [3, 6, 7, 8, 9, 2, 4, 1, 5, 5, 6]\n",
    "print(\"Mean:\", calculate_mean(data))"
   ]
  },
  {
   "cell_type": "markdown",
   "metadata": {},
   "source": [
    "### b"
   ]
  },
  {
   "cell_type": "code",
   "execution_count": 12,
   "metadata": {},
   "outputs": [
    {
     "name": "stdout",
     "output_type": "stream",
     "text": [
      "Median: 5\n"
     ]
    }
   ],
   "source": [
    "# Task 5: Calculate median\n",
    "def calculate_median(nums):\n",
    "    sorted_nums = sorted(nums)\n",
    "    length = len(nums)\n",
    "\n",
    "    if length % 2 == 0:\n",
    "        return (sorted_nums[length//2 - 1] + sorted_nums[length//2]) / 2\n",
    "    else:\n",
    "        return sorted_nums[length//2]\n",
    "data = [3, 6, 7, 8, 9, 2, 4, 1, 5, 5, 6]\n",
    "print(\"Median:\", calculate_median(data))"
   ]
  },
  {
   "cell_type": "markdown",
   "metadata": {},
   "source": [
    "### c"
   ]
  },
  {
   "cell_type": "code",
   "execution_count": 13,
   "metadata": {},
   "outputs": [
    {
     "name": "stdout",
     "output_type": "stream",
     "text": [
      "Mode: [6, 5]\n"
     ]
    }
   ],
   "source": [
    "# Task 6: Calculate mode\n",
    "def calculate_mode(nums):\n",
    "    counts = {}\n",
    "    for num in nums:\n",
    "        counts[num] = counts.get(num, 0) + 1\n",
    "\n",
    "    max_count = max(counts.values())\n",
    "    mode = [num for num, count in counts.items() if count == max_count]\n",
    "\n",
    "    return mode if max_count > 1 else \"No mode\"\n",
    "data = [3, 6, 7, 8, 9, 2, 4, 1, 5, 5, 6]\n",
    "print(\"Mode:\", calculate_mode(data))"
   ]
  },
  {
   "cell_type": "markdown",
   "metadata": {},
   "source": [
    "### d"
   ]
  },
  {
   "cell_type": "code",
   "execution_count": 14,
   "metadata": {},
   "outputs": [
    {
     "name": "stdout",
     "output_type": "stream",
     "text": [
      "Range: 8\n"
     ]
    }
   ],
   "source": [
    "# Task 7: Calculate range\n",
    "def calculate_range(nums):\n",
    "    return max(nums) - min(nums)\n",
    "data = [3, 6, 7, 8, 9, 2, 4, 1, 5, 5, 6]\n",
    "print(\"Range:\", calculate_range(data))"
   ]
  },
  {
   "cell_type": "markdown",
   "metadata": {},
   "source": [
    "### e"
   ]
  },
  {
   "cell_type": "code",
   "execution_count": 15,
   "metadata": {},
   "outputs": [
    {
     "name": "stdout",
     "output_type": "stream",
     "text": [
      "Variance: 5.537190082644629\n"
     ]
    }
   ],
   "source": [
    "# Task 8: Calculate variance\n",
    "def calculate_variance(nums):\n",
    "    mean = calculate_mean(nums)\n",
    "    variance = sum((num - mean) ** 2 for num in nums) / len(nums)\n",
    "    return variance\n",
    "\n",
    "data = [3, 6, 7, 8, 9, 2, 4, 1, 5, 5, 6]\n",
    "print(\"Variance:\", calculate_variance(data))"
   ]
  },
  {
   "cell_type": "markdown",
   "metadata": {},
   "source": [
    "### f"
   ]
  },
  {
   "cell_type": "code",
   "execution_count": 16,
   "metadata": {},
   "outputs": [
    {
     "name": "stdout",
     "output_type": "stream",
     "text": [
      "Standard Deviation: 2.3531234737354154\n"
     ]
    }
   ],
   "source": [
    "# Task 9: Calculate standard deviation\n",
    "def calculate_std(nums):\n",
    "    return calculate_variance(nums) ** 0.5\n",
    "\n",
    "data = [3, 6, 7, 8, 9, 2, 4, 1, 5, 5, 6]\n",
    "print(\"Standard Deviation:\", calculate_std(data))"
   ]
  },
  {
   "cell_type": "markdown",
   "metadata": {},
   "source": [
    "## LEVEL 3"
   ]
  },
  {
   "cell_type": "markdown",
   "metadata": {},
   "source": [
    "### 1"
   ]
  },
  {
   "cell_type": "code",
   "execution_count": 17,
   "metadata": {},
   "outputs": [
    {
     "name": "stdout",
     "output_type": "stream",
     "text": [
      "True\n"
     ]
    }
   ],
   "source": [
    "# Task 1: Check if a number is prime\n",
    "def is_prime(num):\n",
    "    if num < 2:\n",
    "        return False\n",
    "    for i in range(2, int(num**0.5) + 1):\n",
    "        if num % i == 0:\n",
    "            return False\n",
    "    return True\n",
    "\n",
    "print(is_prime(17))"
   ]
  },
  {
   "cell_type": "markdown",
   "metadata": {},
   "source": [
    "### 2"
   ]
  },
  {
   "cell_type": "code",
   "execution_count": 18,
   "metadata": {},
   "outputs": [
    {
     "name": "stdout",
     "output_type": "stream",
     "text": [
      "True\n"
     ]
    }
   ],
   "source": [
    "# Task 2: Check if all items are unique in the list\n",
    "def are_all_unique(lst):\n",
    "    return len(lst) == len(set(lst))\n",
    "\n",
    "print(are_all_unique([1, 2, 3, 4, 5]))"
   ]
  },
  {
   "cell_type": "markdown",
   "metadata": {},
   "source": [
    "### 3"
   ]
  },
  {
   "cell_type": "code",
   "execution_count": 19,
   "metadata": {},
   "outputs": [
    {
     "name": "stdout",
     "output_type": "stream",
     "text": [
      "True\n"
     ]
    }
   ],
   "source": [
    "# Task 3: Check if all items in the list are of the same data type\n",
    "def same_data_type(lst):\n",
    "    return all(isinstance(item, type(lst[0])) for item in lst)\n",
    "\n",
    "print(same_data_type([1, 2, 3, 4, 5]))"
   ]
  },
  {
   "cell_type": "markdown",
   "metadata": {},
   "source": [
    "### 4"
   ]
  },
  {
   "cell_type": "code",
   "execution_count": 20,
   "metadata": {},
   "outputs": [
    {
     "name": "stdout",
     "output_type": "stream",
     "text": [
      "False\n"
     ]
    }
   ],
   "source": [
    "# Task 4: Check if a variable is a valid Python variable\n",
    "def is_valid_variable(variable):\n",
    "    try:\n",
    "        exec(f\"{variable} = 0\")\n",
    "        del globals()[variable]\n",
    "        return True\n",
    "    except:\n",
    "        return False\n",
    "print(is_valid_variable(\"valid_variable\"))"
   ]
  },
  {
   "cell_type": "markdown",
   "metadata": {},
   "source": [
    "### 5"
   ]
  },
  {
   "cell_type": "code",
   "execution_count": 21,
   "metadata": {},
   "outputs": [
    {
     "ename": "ModuleNotFoundError",
     "evalue": "No module named 'data'",
     "output_type": "error",
     "traceback": [
      "\u001b[0;31m---------------------------------------------------------------------------\u001b[0m",
      "\u001b[0;31mModuleNotFoundError\u001b[0m                       Traceback (most recent call last)",
      "Cell \u001b[0;32mIn[21], line 2\u001b[0m\n\u001b[1;32m      1\u001b[0m \u001b[38;5;66;03m# Task 5: Most spoken languages in the world\u001b[39;00m\n\u001b[0;32m----> 2\u001b[0m \u001b[38;5;28;01mfrom\u001b[39;00m \u001b[38;5;21;01mdata\u001b[39;00m\u001b[38;5;21;01m.\u001b[39;00m\u001b[38;5;21;01mcountries_data\u001b[39;00m \u001b[38;5;28;01mimport\u001b[39;00m countries_data\n\u001b[1;32m      4\u001b[0m \u001b[38;5;28;01mdef\u001b[39;00m \u001b[38;5;21mmost_spoken_languages\u001b[39m(num_languages):\n\u001b[1;32m      5\u001b[0m     all_languages \u001b[38;5;241m=\u001b[39m [language \u001b[38;5;28;01mfor\u001b[39;00m country_info \u001b[38;5;129;01min\u001b[39;00m countries_data \u001b[38;5;28;01mfor\u001b[39;00m language \u001b[38;5;129;01min\u001b[39;00m country_info[\u001b[38;5;124m'\u001b[39m\u001b[38;5;124mlanguages\u001b[39m\u001b[38;5;124m'\u001b[39m]]\n",
      "\u001b[0;31mModuleNotFoundError\u001b[0m: No module named 'data'"
     ]
    }
   ],
   "source": [
    "# Task 5: Most spoken languages in the world\n",
    "from data.countries_data import countries_data\n",
    "\n",
    "def most_spoken_languages(num_languages):\n",
    "    all_languages = [language for country_info in countries_data for language in country_info['languages']]\n",
    "    language_counts = {language: all_languages.count(language) for language in set(all_languages)}\n",
    "    sorted_languages = sorted(language_counts.items(), key=lambda x: x[1], reverse=True)\n",
    "    return sorted_languages[:num_languages]\n",
    "\n",
    "print(most_spoken_languages(10))"
   ]
  },
  {
   "cell_type": "markdown",
   "metadata": {},
   "source": [
    "### 6"
   ]
  },
  {
   "cell_type": "code",
   "execution_count": 22,
   "metadata": {},
   "outputs": [
    {
     "ename": "NameError",
     "evalue": "name 'countries_data' is not defined",
     "output_type": "error",
     "traceback": [
      "\u001b[0;31m---------------------------------------------------------------------------\u001b[0m",
      "\u001b[0;31mNameError\u001b[0m                                 Traceback (most recent call last)",
      "Cell \u001b[0;32mIn[22], line 5\u001b[0m\n\u001b[1;32m      3\u001b[0m     sorted_countries \u001b[38;5;241m=\u001b[39m \u001b[38;5;28msorted\u001b[39m(countries_data, key\u001b[38;5;241m=\u001b[39m\u001b[38;5;28;01mlambda\u001b[39;00m x: x[\u001b[38;5;124m'\u001b[39m\u001b[38;5;124mpopulation\u001b[39m\u001b[38;5;124m'\u001b[39m], reverse\u001b[38;5;241m=\u001b[39m\u001b[38;5;28;01mTrue\u001b[39;00m)\n\u001b[1;32m      4\u001b[0m     \u001b[38;5;28;01mreturn\u001b[39;00m sorted_countries[:num_countries]\n\u001b[0;32m----> 5\u001b[0m \u001b[38;5;28mprint\u001b[39m(\u001b[43mmost_populated_countries\u001b[49m\u001b[43m(\u001b[49m\u001b[38;5;241;43m10\u001b[39;49m\u001b[43m)\u001b[49m)\n",
      "Cell \u001b[0;32mIn[22], line 3\u001b[0m, in \u001b[0;36mmost_populated_countries\u001b[0;34m(num_countries)\u001b[0m\n\u001b[1;32m      2\u001b[0m \u001b[38;5;28;01mdef\u001b[39;00m \u001b[38;5;21mmost_populated_countries\u001b[39m(num_countries):\n\u001b[0;32m----> 3\u001b[0m     sorted_countries \u001b[38;5;241m=\u001b[39m \u001b[38;5;28msorted\u001b[39m(\u001b[43mcountries_data\u001b[49m, key\u001b[38;5;241m=\u001b[39m\u001b[38;5;28;01mlambda\u001b[39;00m x: x[\u001b[38;5;124m'\u001b[39m\u001b[38;5;124mpopulation\u001b[39m\u001b[38;5;124m'\u001b[39m], reverse\u001b[38;5;241m=\u001b[39m\u001b[38;5;28;01mTrue\u001b[39;00m)\n\u001b[1;32m      4\u001b[0m     \u001b[38;5;28;01mreturn\u001b[39;00m sorted_countries[:num_countries]\n",
      "\u001b[0;31mNameError\u001b[0m: name 'countries_data' is not defined"
     ]
    }
   ],
   "source": [
    "# Task 6: Most populated countries\n",
    "def most_populated_countries(num_countries):\n",
    "    sorted_countries = sorted(countries_data, key=lambda x: x['population'], reverse=True)\n",
    "    return sorted_countries[:num_countries]\n",
    "print(most_populated_countries(10))"
   ]
  }
 ],
 "metadata": {
  "kernelspec": {
   "display_name": "arewa_ds",
   "language": "python",
   "name": "arewa_ds"
  },
  "language_info": {
   "codemirror_mode": {
    "name": "ipython",
    "version": 3
   },
   "file_extension": ".py",
   "mimetype": "text/x-python",
   "name": "python",
   "nbconvert_exporter": "python",
   "pygments_lexer": "ipython3",
   "version": "3.10.12"
  }
 },
 "nbformat": 4,
 "nbformat_minor": 2
}
