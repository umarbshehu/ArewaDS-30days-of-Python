{
 "cells": [
  {
   "cell_type": "markdown",
   "metadata": {},
   "source": [
    "Exercise: Level 1"
   ]
  },
  {
   "cell_type": "code",
   "execution_count": 7,
   "metadata": {},
   "outputs": [
    {
     "name": "stdout",
     "output_type": "stream",
     "text": [
      "4\n",
      "{'Meta', 'Amazon', 'Google', 'Twitter', 'Huawei'}\n",
      "{'Meta', 'Cisco', 'Amazon', 'Google', 'Oracle', 'Twitter', 'Huawei'}\n",
      "{'Meta', 'Cisco', 'Amazon', 'Google', 'Twitter', 'Huawei'}\n"
     ]
    }
   ],
   "source": [
    "# Find the length of the set it_companies\n",
    "it_companies = {\"Meta\", \"Huawei\", \"Google\", \"Amazon\"}\n",
    "\n",
    "ln = len(it_companies)\n",
    "print(ln)\n",
    "\n",
    "# Add 'Twitter' to it_companies\n",
    "it_companies.add(\"Twitter\")\n",
    "print(it_companies)\n",
    "\n",
    "# Insert multiple IT companies at once to the set it_companies\n",
    "it_companies_2 = {\"Cisco\", \"Oracle\"}\n",
    "it_companies.update(it_companies_2)\n",
    "\n",
    "print(it_companies)\n",
    "\n",
    "# Remove one of the companies from the set it_companies\n",
    "it_companies.remove(\"Oracle\")\n",
    "print(it_companies)\n",
    "\n",
    "# What is the difference between remove and discard\n",
    "# Remove: Is a method will raise a error message when an element is not found.\n",
    "# Discard: Is a also method that will not raise an error message when an element is not found."
   ]
  },
  {
   "cell_type": "markdown",
   "metadata": {},
   "source": [
    "Exercise: Level 2"
   ]
  },
  {
   "cell_type": "code",
   "execution_count": 19,
   "metadata": {},
   "outputs": [
    {
     "name": "stdout",
     "output_type": "stream",
     "text": [
      "{19, 20, 22, 24, 25, 26, 27, 28}\n",
      "{19, 20, 22, 24, 25, 26}\n",
      "True\n",
      "False\n",
      "{19, 20, 22, 24, 25, 26, 27, 28}\n",
      "{19, 20, 22, 24, 25, 26, 27, 28}\n",
      "set()\n"
     ]
    }
   ],
   "source": [
    "# sets\n",
    "it_companies = {'Facebook', 'Google', 'Microsoft', 'Apple', 'IBM', 'Oracle', 'Amazon'}\n",
    "A = {19, 22, 24, 20, 25, 26}\n",
    "B = {19, 22, 20, 25, 26, 24, 28, 27}\n",
    "age = [22, 19, 24, 25, 26, 24, 25, 24]\n",
    "\n",
    "# Join A and B\n",
    "A.union(B)\n",
    "print(A.union(B))\n",
    "\n",
    "# Find A intersection B\n",
    "A.intersection(B)\n",
    "print(A.intersection(B))\n",
    "\n",
    "# Is A subset of B\n",
    "A.issubset(B)\n",
    "print(A.issubset(B))\n",
    "\n",
    "# Are A and B disjoint sets\n",
    "A.isdisjoint(B)\n",
    "print(A.isdisjoint(B))\n",
    "\n",
    "# Join A with B and B with A\n",
    "A.update(B)\n",
    "print(A)\n",
    "\n",
    "# Join B with A\n",
    "B.update(A)\n",
    "print(B)\n",
    "\n",
    "# What is the symmetric difference between A and B\n",
    "A.symmetric_difference(B)\n",
    "print(A.symmetric_difference(B))\n",
    "\n",
    "# Delete the sets completely\n",
    "A = {19, 22, 24, 20, 25, 26}\n",
    "del A\n",
    "\n",
    "B = {19, 22, 20, 25, 26, 24, 28, 27}\n",
    "del B"
   ]
  },
  {
   "cell_type": "markdown",
   "metadata": {},
   "source": [
    "Exercises: Level 3"
   ]
  },
  {
   "cell_type": "code",
   "execution_count": 24,
   "metadata": {},
   "outputs": [
    {
     "name": "stdout",
     "output_type": "stream",
     "text": [
      "{19, 22, 24, 25, 26}\n",
      "8\n"
     ]
    }
   ],
   "source": [
    "# Convert the ages to a set and compare the length of the list and the set, which one is bigger?\n",
    "age = [22, 19, 24, 25, 26, 24, 25, 24]\n",
    "\n",
    "lst = set(age)\n",
    "print(lst)\n",
    "\n",
    "# length of lis\n",
    "l1 = len(age)\n",
    "print(l1)\n",
    "\n",
    "# length of set\n",
    "# l2 = len(set)"
   ]
  },
  {
   "cell_type": "markdown",
   "metadata": {},
   "source": [
    "Explain the difference between the following data types: string, list, tuple and set"
   ]
  },
  {
   "cell_type": "markdown",
   "metadata": {},
   "source": [
    "Set: characters in a single or double quotes and are immutable(fixed).\n"
   ]
  },
  {
   "cell_type": "markdown",
   "metadata": {},
   "source": [
    "List: set of unordered elements, are mutable and enclose in square bracket []\n"
   ]
  },
  {
   "cell_type": "markdown",
   "metadata": {},
   "source": [
    "Tuple: set of ordered elements, immutables, enclosed in a bracket ()\n"
   ]
  },
  {
   "cell_type": "markdown",
   "metadata": {},
   "source": [
    "Set: unordered elements, mutables and enclosed in curly brackets {}"
   ]
  },
  {
   "cell_type": "code",
   "execution_count": null,
   "metadata": {},
   "outputs": [],
   "source": [
    "# I am a teacher and I love to inspire and teach people. How many unique words have been used in the sentence? Use the split methods and set to get the unique words.\n",
    "sentence = \"I am a teacher and I love to inspire and teach people\"\n",
    "\n"
   ]
  }
 ],
 "metadata": {
  "kernelspec": {
   "display_name": "arewa_ds",
   "language": "python",
   "name": "arewa_ds"
  },
  "language_info": {
   "codemirror_mode": {
    "name": "ipython",
    "version": 3
   },
   "file_extension": ".py",
   "mimetype": "text/x-python",
   "name": "python",
   "nbconvert_exporter": "python",
   "pygments_lexer": "ipython3",
   "version": "3.10.12"
  }
 },
 "nbformat": 4,
 "nbformat_minor": 2
}
