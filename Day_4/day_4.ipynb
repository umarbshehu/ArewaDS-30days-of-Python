{
 "cells": [
  {
   "cell_type": "markdown",
   "metadata": {},
   "source": [
    "Exercises: Day 4"
   ]
  },
  {
   "cell_type": "markdown",
   "metadata": {},
   "source": [
    "1"
   ]
  },
  {
   "cell_type": "code",
   "execution_count": 2,
   "metadata": {},
   "outputs": [
    {
     "name": "stdout",
     "output_type": "stream",
     "text": [
      "Thirty Days Of Python\n"
     ]
    }
   ],
   "source": [
    "# Concatenate the string 'Thirty', 'Days', 'Of', 'Python' to a single string, 'Thirty Days Of Python' \n",
    "\n",
    "string_1 = \"Thirty\"\n",
    "string_2 = \"Days\"\n",
    "string_3 = \"Of\"\n",
    "string_4 = \"Python\"\n",
    "\n",
    "string = string_1 + \" \" + string_2 + \" \" + string_3 + \" \" + string_4\n",
    "print(string) "
   ]
  },
  {
   "cell_type": "markdown",
   "metadata": {},
   "source": [
    "2"
   ]
  },
  {
   "cell_type": "code",
   "execution_count": 3,
   "metadata": {},
   "outputs": [
    {
     "name": "stdout",
     "output_type": "stream",
     "text": [
      "coding For All\n"
     ]
    }
   ],
   "source": [
    "# Concatenate the string 'Coding', 'For' , 'All' to a single string, 'Coding For All'.\n",
    "\n",
    "str_1 = \"coding\"\n",
    "str_2 = \"For\"\n",
    "str_3 = \"All\"\n",
    "\n",
    "str_4 = str_1 + \" \" + str_2 + \" \" + str_3\n",
    "print(str_4)"
   ]
  },
  {
   "cell_type": "markdown",
   "metadata": {},
   "source": [
    "3 - 17"
   ]
  },
  {
   "cell_type": "code",
   "execution_count": 29,
   "metadata": {},
   "outputs": [
    {
     "name": "stdout",
     "output_type": "stream",
     "text": [
      "Coding For All\n",
      "14\n",
      "CODING FOR ALL\n",
      "coding for all\n",
      "Coding for all\n",
      "Coding For All\n",
      "cODING fOR aLL\n",
      "C\n",
      "Python For All\n",
      "Coding For Everyone\n",
      "['Coding', 'For', 'All']\n",
      "C\n",
      "l\n",
      " \n",
      "C\n",
      "F\n",
      "13\n",
      "33\n",
      "49\n",
      "True\n",
      "False\n",
      "Coding for All    \n",
      "    Coding for All\n",
      "Coding for All\n",
      "Django#Flask#Bottle#Pyramid#Falcon\n",
      "------------------------------------------\n",
      "\n",
      "I am enjoying this challenge.\n",
      "I just wonder what is next.\n",
      "\n",
      "Name \tAge \tCountry \tCity\n",
      "Asabeneh 250     Finland     Helsinki\n",
      "----------------------------------------\n",
      "The area of a circle with 10 is 314.0 metres square\n",
      "--------------------------------------\n",
      "8 + 6 = 14\n",
      "8 - 6 = 2\n",
      "8 * 6 = 48\n",
      "8 / 6 = 1.3333333333333333\n",
      "8 % 6 = 2\n",
      "8 // 6 = 1\n",
      "8 ** 6 = 262144\n"
     ]
    }
   ],
   "source": [
    "# Declare a variable named company and assign it to an initial value \"Coding For All\".\n",
    "# Print the variable company using print().\n",
    "# Print the length of the company string using len() method and print().\n",
    "# Change all the characters to uppercase letters using upper() method.\n",
    "# Change all the characters to lowercase letters using lower() method.\n",
    "# Use capitalize(), title(), swapcase() methods to format the value of the string Coding For All.\n",
    "# Cut(slice) out the first word of Coding For All string.\n",
    "# Check if Coding For All string contains a word Coding using the method index, find or other methods.\n",
    "# Replace the word coding in the string 'Coding For All' to Python.\n",
    "# Change Python for Everyone to Python for All using the replace method or other methods.\n",
    "# Split the string 'Coding For All' using space as the separator (split()) .\n",
    "# \"Facebook, Google, Microsoft, Apple, IBM, Oracle, Amazon\" split the string at the comma.\n",
    "# What is the character at index 0 in the string Coding For All.\n",
    "# What is the last index of the string Coding For All.\n",
    "# What character is at index 10 in \"Coding For All\" string.\n",
    "# Create an acronym or an abbreviation for the name 'Python For Everyone'.\n",
    "# Create an acronym or an abbreviation for the name 'Coding For All'.\n",
    "# Use index to determine the position of the first occurrence of C in Coding For All.\n",
    "# Use index to determine the position of the first occurrence of F in Coding For All.\n",
    "# Use rfind to determine the position of the last occurrence of l in Coding For All People.\n",
    "# Use index or find to find the position of the first occurrence of the word 'because' in the following sentence: 'You cannot end a sentence with because because because is a conjunction'\n",
    "# Use rindex to find the position of the last occurrence of the word because in the following sentence: 'You cannot end a sentence with because because because is a conjunction'\n",
    "# Slice out the phrase 'because because because' in the following sentence: 'You cannot end a sentence with because because because is a conjunction'\n",
    "# Find the position of the first occurrence of the word 'because' in the following sentence: 'You cannot end a sentence with because because because is a conjunction'\n",
    "# Slice out the phrase 'because because because' in the following sentence: 'You cannot end a sentence with because because because is a conjunction'\n",
    "# Does ''Coding For All' start with a substring Coding?\n",
    "# Does 'Coding For All' end with a substring coding?\n",
    "# '   Coding For All      '  , remove the left and right trailing spaces in the given string.\n",
    "# Which one of the following variables return True when we use the method isidentifier():\n",
    "# 30DaysOfPython\n",
    "# thirty_days_of_python\n",
    "# The following list contains the names of some of python libraries: ['Django', 'Flask', 'Bottle', 'Pyramid', 'Falcon']. Join the list with a hash with space string.\n",
    "\n",
    "\n",
    "company = \"Coding For All\" # 3\n",
    "print(company) # 4\n",
    "print(len(company)) # 5\n",
    "print(company.upper()) # 6\n",
    "print(company.lower()) # 7\n",
    "print(company.capitalize()) # 8\n",
    "print(company.title()) # 8\n",
    "print(company.swapcase()) # 8\n",
    "print(company[0]) # 9\n",
    "# print(company[]) #  Check if Coding For All string contains a word Coding using the method index, find or other methods\n",
    "print(company.replace(\"Coding\", \"Python\")) # 11\n",
    "print(company.replace(\"All\", \"Everyone\")) # 12\n",
    "print(company.split()) # 13\n",
    "\n",
    "# \"Facebook, Google, Microsoft, Apple, IBM, Oracle, Amazon\" split the string at the comma.\n",
    "# str_1 = \"FacebookGoogleMicrosoftAppleIBM,OracleAmazon\"\n",
    "# print(str_1.split(,)) \n",
    "\n",
    "print(company[0])\n",
    "print(company[-1])\n",
    "print(company[10])\n",
    "print(company[0])\n",
    "print(company[7])\n",
    "print(company.rfind(\"l\"))\n",
    "\n",
    "sentence = \"You cannot end the sentence with because because because is a conjunction\"\n",
    "print(sentence.find(\"because\"))\n",
    "print(sentence.rindex(\"because\"))\n",
    "print(company.startswith(\"Coding\"))\n",
    "print(company.endswith(\"Coding\"))\n",
    "\n",
    "stripping = \"    Coding for All    \"\n",
    "print(stripping.lstrip())\n",
    "print(stripping.rstrip())\n",
    "print(stripping.strip())\n",
    "\n",
    "python_libraries = ['Django', 'Flask', 'Bottle', 'Pyramid', 'Falcon']\n",
    "j = \"#\".join(python_libraries)\n",
    "print(j)\n",
    "\n",
    "print(\"------------------------------------------\")\n",
    "\n",
    "print(\"\\nI am enjoying this challenge.\\nI just wonder what is next.\\n\")\n",
    "print(\"Name \\tAge \\tCountry \\tCity\")\n",
    "print(\"Asabeneh 250     Finland     Helsinki\")\n",
    "\n",
    "print(\"----------------------------------------\")\n",
    "\n",
    "radius = 10\n",
    "area = 3.14 * radius ** 2\n",
    "print(f\"The area of a circle with {radius} is {area} metres square\")\n",
    "\n",
    "print(\"--------------------------------------\")\n",
    "a = 8\n",
    "b = 6\n",
    "\n",
    "\n",
    "print(f\"{a} + {b} = {a + b}\")\n",
    "print(f\"{a} - {b} = {a - b}\")\n",
    "print(f\"{a} * {b} = {a * b}\")\n",
    "print(f\"{a} / {b} = {a / b}\")\n",
    "print(f\"{a} % {b} = {a % b}\")\n",
    "print(f\"{a} // {b} = {a // b}\")\n",
    "print(f\"{a} ** {b} = {a ** b}\")"
   ]
  }
 ],
 "metadata": {
  "kernelspec": {
   "display_name": "arewa_ds",
   "language": "python",
   "name": "arewa_ds"
  },
  "language_info": {
   "codemirror_mode": {
    "name": "ipython",
    "version": 3
   },
   "file_extension": ".py",
   "mimetype": "text/x-python",
   "name": "python",
   "nbconvert_exporter": "python",
   "pygments_lexer": "ipython3",
   "version": "3.10.12"
  }
 },
 "nbformat": 4,
 "nbformat_minor": 2
}
