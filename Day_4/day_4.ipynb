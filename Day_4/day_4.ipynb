{
 "cells": [
  {
   "cell_type": "markdown",
   "metadata": {},
   "source": [
    "Exercises: Day 4"
   ]
  },
  {
   "cell_type": "markdown",
   "metadata": {},
   "source": [
    "1"
   ]
  },
  {
   "cell_type": "code",
   "execution_count": 2,
   "metadata": {},
   "outputs": [
    {
     "name": "stdout",
     "output_type": "stream",
     "text": [
      "Thirty Days Of Python\n"
     ]
    }
   ],
   "source": [
    "# Concatenate the string 'Thirty', 'Days', 'Of', 'Python' to a single string, 'Thirty Days Of Python' \n",
    "\n",
    "string_1 = \"Thirty\"\n",
    "string_2 = \"Days\"\n",
    "string_3 = \"Of\"\n",
    "string_4 = \"Python\"\n",
    "\n",
    "string = string_1 + \" \" + string_2 + \" \" + string_3 + \" \" + string_4\n",
    "print(string) "
   ]
  },
  {
   "cell_type": "markdown",
   "metadata": {},
   "source": [
    "2"
   ]
  },
  {
   "cell_type": "code",
   "execution_count": 3,
   "metadata": {},
   "outputs": [
    {
     "name": "stdout",
     "output_type": "stream",
     "text": [
      "coding For All\n"
     ]
    }
   ],
   "source": [
    "# Concatenate the string 'Coding', 'For' , 'All' to a single string, 'Coding For All'.\n",
    "\n",
    "str_1 = \"coding\"\n",
    "str_2 = \"For\"\n",
    "str_3 = \"All\"\n",
    "\n",
    "str_4 = str_1 + \" \" + str_2 + \" \" + str_3\n",
    "print(str_4)"
   ]
  },
  {
   "cell_type": "markdown",
   "metadata": {},
   "source": [
    "3 - 17"
   ]
  },
  {
   "cell_type": "code",
   "execution_count": 22,
   "metadata": {},
   "outputs": [
    {
     "name": "stdout",
     "output_type": "stream",
     "text": [
      "Coding For All\n",
      "14\n",
      "CODING FOR ALL\n",
      "coding for all\n",
      "Coding for all\n",
      "Coding For All\n",
      "cODING fOR aLL\n",
      "C\n",
      "Python For All\n",
      "Coding For Everyone\n",
      "['Coding', 'For', 'All']\n",
      "C\n",
      "l\n",
      " \n"
     ]
    }
   ],
   "source": [
    "# Declare a variable named company and assign it to an initial value \"Coding For All\".\n",
    "# Print the variable company using print().\n",
    "# Print the length of the company string using len() method and print().\n",
    "# Change all the characters to uppercase letters using upper() method.\n",
    "# Change all the characters to lowercase letters using lower() method.\n",
    "# Use capitalize(), title(), swapcase() methods to format the value of the string Coding For All.\n",
    "# Cut(slice) out the first word of Coding For All string.\n",
    "# Check if Coding For All string contains a word Coding using the method index, find or other methods.\n",
    "# Replace the word coding in the string 'Coding For All' to Python.\n",
    "# Change Python for Everyone to Python for All using the replace method or other methods.\n",
    "# Split the string 'Coding For All' using space as the separator (split()) .\n",
    "# \"Facebook, Google, Microsoft, Apple, IBM, Oracle, Amazon\" split the string at the comma.\n",
    "# What is the character at index 0 in the string Coding For All.\n",
    "# What is the last index of the string Coding For All.\n",
    "# What character is at index 10 in \"Coding For All\" string.\n",
    "\n",
    "company = \"Coding For All\" # 3\n",
    "print(company) # 4\n",
    "print(len(company)) # 5\n",
    "print(company.upper()) # 6\n",
    "print(company.lower()) # 7\n",
    "print(company.capitalize()) # 8\n",
    "print(company.title()) # 8\n",
    "print(company.swapcase()) # 8\n",
    "print(company[0]) # 9\n",
    "# print(company[]) #  Check if Coding For All string contains a word Coding using the method index, find or other methods\n",
    "print(company.replace(\"Coding\", \"Python\")) # 11\n",
    "print(company.replace(\"All\", \"Everyone\")) # 12\n",
    "print(company.split()) # 13\n",
    "\n",
    "# \"Facebook, Google, Microsoft, Apple, IBM, Oracle, Amazon\" split the string at the comma.\n",
    "# str_1 = \"FacebookGoogleMicrosoftAppleIBM,OracleAmazon\"\n",
    "# print(str_1.split(,)) \n",
    "\n",
    "print(company[0])\n",
    "print(company[-1])\n",
    "print(company[10])\n",
    "\n",
    "\n",
    "\n",
    "\n",
    "\n"
   ]
  }
 ],
 "metadata": {
  "kernelspec": {
   "display_name": "arewa_ds",
   "language": "python",
   "name": "arewa_ds"
  },
  "language_info": {
   "codemirror_mode": {
    "name": "ipython",
    "version": 3
   },
   "file_extension": ".py",
   "mimetype": "text/x-python",
   "name": "python",
   "nbconvert_exporter": "python",
   "pygments_lexer": "ipython3",
   "version": "3.10.12"
  }
 },
 "nbformat": 4,
 "nbformat_minor": 2
}
