{
 "cells": [
  {
   "cell_type": "markdown",
   "metadata": {},
   "source": [
    "## EXERCISE "
   ]
  },
  {
   "cell_type": "markdown",
   "metadata": {},
   "source": [
    "### 1"
   ]
  },
  {
   "cell_type": "code",
   "execution_count": 1,
   "metadata": {},
   "outputs": [
    {
     "name": "stdout",
     "output_type": "stream",
     "text": [
      "Nordic Countries: Finland\n",
      "Rest of the Countries: ['Sweden', 'Norway', 'Denmark', 'Iceland']\n",
      "Estonia: Estonia\n",
      "Russia: Russia\n"
     ]
    }
   ],
   "source": [
    "names = ['Finland', 'Sweden', 'Norway', 'Denmark', 'Iceland', 'Estonia', 'Russia']\n",
    "\n",
    "# Unpack the first five countries\n",
    "nordic_countries, *rest_countries = names[:5]\n",
    "\n",
    "# Unpack Estonia and Russia\n",
    "es, ru = names[-2:]\n",
    "\n",
    "# Print the results\n",
    "print(\"Nordic Countries:\", nordic_countries)\n",
    "print(\"Rest of the Countries:\", rest_countries)\n",
    "print(\"Estonia:\", es)\n",
    "print(\"Russia:\", ru)\n"
   ]
  }
 ],
 "metadata": {
  "kernelspec": {
   "display_name": "arewa_ds",
   "language": "python",
   "name": "arewa_ds"
  },
  "language_info": {
   "codemirror_mode": {
    "name": "ipython",
    "version": 3
   },
   "file_extension": ".py",
   "mimetype": "text/x-python",
   "name": "python",
   "nbconvert_exporter": "python",
   "pygments_lexer": "ipython3",
   "version": "3.10.12"
  }
 },
 "nbformat": 4,
 "nbformat_minor": 2
}
