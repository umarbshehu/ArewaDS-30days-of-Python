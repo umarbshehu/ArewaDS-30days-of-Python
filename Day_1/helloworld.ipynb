{
 "cells": [
  {
   "cell_type": "markdown",
   "metadata": {},
   "source": [
    "# Introduction"
   ]
  },
  {
   "cell_type": "markdown",
   "metadata": {},
   "source": [
    "# Day 1 - 30daysofpython Challenge"
   ]
  },
  {
   "cell_type": "code",
   "execution_count": null,
   "metadata": {},
   "outputs": [],
   "source": [
    "print(2 + 7) # addition(+)\n",
    "print(10 - 5) # subtraction(-)\n",
    "print(8 * 3) # multiplication(*)\n",
    "print(16 / 3) # division(/)\n",
    "print(2 ** 3) # exponential(**) \n",
    "print(10 % 3) # modulos(%)\n",
    "print(6 // 5) # floor-division (//)"
   ]
  },
  {
   "cell_type": "markdown",
   "metadata": {},
   "source": [
    "# Checking Data Types"
   ]
  },
  {
   "cell_type": "code",
   "execution_count": null,
   "metadata": {},
   "outputs": [],
   "source": [
    "print(type(\"name\")) # string\n",
    "print(type(34)) # integer\n",
    "print(type(5.6)) # floating point number\n",
    "print(type([3, \"game\", 10])) # list\n",
    "print(type(12 - 4j)) # complex number\n",
    "print(type({2: \"sword\"})) # dictionary\n",
    "print(type(2, 5, 8, 9)) # tuple\n",
    "print(type({\"eagle\", 4, \"glass\", 27})) # set"
   ]
  }
 ],
 "metadata": {
  "kernelspec": {
   "display_name": "arewa_ds",
   "language": "python",
   "name": "arewa_ds"
  },
  "language_info": {
   "name": "python",
   "version": "3.10.12"
  }
 },
 "nbformat": 4,
 "nbformat_minor": 2
}
