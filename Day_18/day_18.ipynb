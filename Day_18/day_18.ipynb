{
 "cells": [
  {
   "cell_type": "markdown",
   "metadata": {},
   "source": [
    "## LEVEL 1"
   ]
  },
  {
   "cell_type": "markdown",
   "metadata": {},
   "source": [
    "### 1"
   ]
  },
  {
   "cell_type": "code",
   "execution_count": 1,
   "metadata": {},
   "outputs": [
    {
     "name": "stdout",
     "output_type": "stream",
     "text": [
      "The most frequent word is 'love' with a count of 6.\n"
     ]
    }
   ],
   "source": [
    "from collections import Counter\n",
    "import re\n",
    "\n",
    "paragraph = 'I love teaching. If you do not love teaching what else can you love. I love Python if you do not love something which can give you all the capabilities to develop an application what else can you love.'\n",
    "\n",
    "# Preprocess the paragraph by converting to lowercase and removing punctuation\n",
    "cleaned_paragraph = re.sub(r'[^\\w\\s]', '', paragraph.lower())\n",
    "\n",
    "# Split the paragraph into words\n",
    "words = cleaned_paragraph.split()\n",
    "\n",
    "# Use Counter to count the occurrences of each word\n",
    "word_counts = Counter(words)\n",
    "\n",
    "# Find the most common word and its count\n",
    "most_common_word, count = word_counts.most_common(1)[0]\n",
    "\n",
    "print(f\"The most frequent word is '{most_common_word}' with a count of {count}.\")\n"
   ]
  },
  {
   "cell_type": "markdown",
   "metadata": {},
   "source": [
    "## LEVEL 2"
   ]
  },
  {
   "cell_type": "markdown",
   "metadata": {},
   "source": [
    "### 1"
   ]
  },
  {
   "cell_type": "code",
   "execution_count": 2,
   "metadata": {},
   "outputs": [
    {
     "name": "stdout",
     "output_type": "stream",
     "text": [
      "Sorted Points: [-12, -4, -3, -1, 0, 4, 8]\n",
      "Distance between the two furthest particles: 20\n"
     ]
    }
   ],
   "source": [
    "import re\n",
    "\n",
    "text = \"The position of some particles on the horizontal x-axis are -12, -4, -3 and -1 in the negative direction, 0 at origin, 4 and 8 in the positive direction.\"\n",
    "\n",
    "# Extract numbers from the text using regular expression\n",
    "numbers = [int(match.group()) for match in re.finditer(r'-?\\d+', text)]\n",
    "\n",
    "# Sort the numbers\n",
    "sorted_points = sorted(numbers)\n",
    "\n",
    "# Find the distance between the two furthest particles\n",
    "distance = sorted_points[-1] - sorted_points[0]\n",
    "\n",
    "print(\"Sorted Points:\", sorted_points)\n",
    "print(\"Distance between the two furthest particles:\", distance)\n"
   ]
  },
  {
   "cell_type": "markdown",
   "metadata": {},
   "source": [
    "## LEVEL 3"
   ]
  },
  {
   "cell_type": "markdown",
   "metadata": {},
   "source": [
    "### 1"
   ]
  },
  {
   "cell_type": "code",
   "execution_count": 3,
   "metadata": {},
   "outputs": [
    {
     "name": "stdout",
     "output_type": "stream",
     "text": [
      "I am a teacher and I love teaching There is nothing as more rewarding as educating and empowering people I found teaching more interesting than any other jobs Does this motivate you to be a teacher\n",
      "Three most frequent words: [('I', 3), ('a', 2), ('teacher', 2)]\n"
     ]
    }
   ],
   "source": [
    "import re\n",
    "from collections import Counter\n",
    "\n",
    "def clean_text(text):\n",
    "    # Remove special characters and extra spaces\n",
    "    cleaned_text = re.sub(r'[^a-zA-Z\\s]', '', text)\n",
    "    return cleaned_text\n",
    "\n",
    "def most_frequent_words(text, n=3):\n",
    "    words = text.split()\n",
    "    word_counts = Counter(words)\n",
    "    most_common = word_counts.most_common(n)\n",
    "    return most_common\n",
    "\n",
    "sentence = '''%I $am@% a %tea@cher%, &and& I lo%#ve %tea@ching%;. There $is nothing; &as& mo@re rewarding as educa@ting &and& @emp%o@wering peo@ple. ;I found tea@ching m%o@re interesting tha@n any other %jo@bs. %Do@es thi%s mo@tivate yo@u to be a tea@cher!?'''\n",
    "\n",
    "cleaned_text = clean_text(sentence)\n",
    "print(cleaned_text)\n",
    "\n",
    "result = most_frequent_words(cleaned_text)\n",
    "print(\"Three most frequent words:\", result)\n"
   ]
  }
 ],
 "metadata": {
  "kernelspec": {
   "display_name": "arewa_ds",
   "language": "python",
   "name": "arewa_ds"
  },
  "language_info": {
   "codemirror_mode": {
    "name": "ipython",
    "version": 3
   },
   "file_extension": ".py",
   "mimetype": "text/x-python",
   "name": "python",
   "nbconvert_exporter": "python",
   "pygments_lexer": "ipython3",
   "version": "3.10.12"
  }
 },
 "nbformat": 4,
 "nbformat_minor": 2
}
