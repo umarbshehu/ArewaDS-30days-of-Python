{
 "cells": [
  {
   "cell_type": "markdown",
   "metadata": {},
   "source": [
    "### 1"
   ]
  },
  {
   "cell_type": "code",
   "execution_count": 2,
   "metadata": {},
   "outputs": [
    {
     "name": "stdout",
     "output_type": "stream",
     "text": [
      "{}\n"
     ]
    }
   ],
   "source": [
    "# Create an empty dictionary called dog\n",
    "dog = {}\n",
    "print(dog)"
   ]
  },
  {
   "cell_type": "markdown",
   "metadata": {},
   "source": [
    "### 2"
   ]
  },
  {
   "cell_type": "code",
   "execution_count": 12,
   "metadata": {},
   "outputs": [
    {
     "name": "stdout",
     "output_type": "stream",
     "text": [
      "{'name': 'Grey', 'color': 'Rose', 'breed': 'Bulldog', 'legs': 4, 'age': 3}\n"
     ]
    }
   ],
   "source": [
    "# Add name, color, breed, legs, age to the dog dictionary\n",
    "dog['name'] = 'Grey'\n",
    "dog['color'] = 'Rose'\n",
    "dog['breed'] = 'Bulldog'\n",
    "dog['legs'] = 4\n",
    "dog['age'] = 3\n",
    "\n",
    "print(dog)"
   ]
  },
  {
   "cell_type": "markdown",
   "metadata": {},
   "source": [
    "### 3"
   ]
  },
  {
   "cell_type": "code",
   "execution_count": 5,
   "metadata": {},
   "outputs": [
    {
     "name": "stdout",
     "output_type": "stream",
     "text": [
      "{'first_name': 'Umar', 'last_name': 'Shehu', 'gender': 'Male', 'age': 20, 'marital_status': 'Single', 'skills': ['Programming', 'Data Analysis'], 'country': 'Nigeria', 'city': 'Abuja', 'address': '123 Main St'}\n"
     ]
    }
   ],
   "source": [
    "# Create a student dictionary\n",
    "student = {\n",
    "    'first_name': 'Umar',\n",
    "    'last_name': 'Shehu',\n",
    "    'gender': 'Male',\n",
    "    'age': 20,\n",
    "    'marital_status': 'Single',\n",
    "    'skills': ['Programming', 'Data Analysis'],\n",
    "    'country': 'Nigeria',\n",
    "    'city': 'Abuja',\n",
    "    'address': '123 Main St'\n",
    "}\n",
    "\n",
    "print(student)"
   ]
  },
  {
   "cell_type": "markdown",
   "metadata": {},
   "source": [
    "### 4"
   ]
  },
  {
   "cell_type": "code",
   "execution_count": 6,
   "metadata": {},
   "outputs": [
    {
     "name": "stdout",
     "output_type": "stream",
     "text": [
      "Length of the student dictionary: 9\n"
     ]
    }
   ],
   "source": [
    "# Get the length of the student dictionary\n",
    "length_of_student = len(student)\n",
    "print(\"Length of the student dictionary:\", length_of_student)"
   ]
  },
  {
   "cell_type": "markdown",
   "metadata": {},
   "source": [
    "### 5"
   ]
  },
  {
   "cell_type": "code",
   "execution_count": 7,
   "metadata": {},
   "outputs": [
    {
     "name": "stdout",
     "output_type": "stream",
     "text": [
      "Data type of skills: <class 'list'>\n"
     ]
    }
   ],
   "source": [
    "# Get the value of skills and check the data type\n",
    "skills_value = student['skills']\n",
    "skills_data_type = type(skills_value)\n",
    "print(\"Data type of skills:\", skills_data_type)"
   ]
  },
  {
   "cell_type": "markdown",
   "metadata": {},
   "source": [
    "### 6"
   ]
  },
  {
   "cell_type": "code",
   "execution_count": 8,
   "metadata": {},
   "outputs": [
    {
     "name": "stdout",
     "output_type": "stream",
     "text": [
      "Modified skills values: ['Programming', 'Data Analysis', 'Problem Solving', 'Communication']\n"
     ]
    }
   ],
   "source": [
    "# Modify the skills values by adding one or two skills\n",
    "student['skills'].extend(['Problem Solving', 'Communication'])\n",
    "print(\"Modified skills values:\", student['skills'])\n"
   ]
  },
  {
   "cell_type": "markdown",
   "metadata": {},
   "source": [
    "### 7"
   ]
  },
  {
   "cell_type": "code",
   "execution_count": 9,
   "metadata": {},
   "outputs": [
    {
     "name": "stdout",
     "output_type": "stream",
     "text": [
      "Dictionary keys as a list: ['first_name', 'last_name', 'gender', 'age', 'marital_status', 'skills', 'country', 'city', 'address']\n"
     ]
    }
   ],
   "source": [
    "# Get the dictionary keys as a list\n",
    "keys_list = list(student.keys())\n",
    "print(\"Dictionary keys as a list:\", keys_list)\n"
   ]
  },
  {
   "cell_type": "markdown",
   "metadata": {},
   "source": [
    "### 8"
   ]
  },
  {
   "cell_type": "code",
   "execution_count": 10,
   "metadata": {},
   "outputs": [
    {
     "name": "stdout",
     "output_type": "stream",
     "text": [
      "Dictionary values as a list: ['Umar', 'Shehu', 'Male', 20, 'Single', ['Programming', 'Data Analysis', 'Problem Solving', 'Communication'], 'Nigeria', 'Abuja', '123 Main St']\n"
     ]
    }
   ],
   "source": [
    "# Get the dictionary values as a list\n",
    "values_list = list(student.values())\n",
    "print(\"Dictionary values as a list:\", values_list)"
   ]
  },
  {
   "cell_type": "markdown",
   "metadata": {},
   "source": [
    "### 9"
   ]
  },
  {
   "cell_type": "code",
   "execution_count": 11,
   "metadata": {},
   "outputs": [
    {
     "name": "stdout",
     "output_type": "stream",
     "text": [
      "Dictionary as a list of tuples: [('first_name', 'Umar'), ('last_name', 'Shehu'), ('gender', 'Male'), ('age', 20), ('marital_status', 'Single'), ('skills', ['Programming', 'Data Analysis', 'Problem Solving', 'Communication']), ('country', 'Nigeria'), ('city', 'Abuja'), ('address', '123 Main St')]\n"
     ]
    }
   ],
   "source": [
    "# Change the dictionary to a list of tuples using items() method\n",
    "items_list = list(student.items())\n",
    "print(\"Dictionary as a list of tuples:\", items_list)"
   ]
  },
  {
   "cell_type": "markdown",
   "metadata": {},
   "source": [
    "### 10"
   ]
  },
  {
   "cell_type": "code",
   "execution_count": null,
   "metadata": {},
   "outputs": [],
   "source": [
    "# Delete one of the items in the dictionary\n",
    "del student['marital_status']"
   ]
  },
  {
   "cell_type": "markdown",
   "metadata": {},
   "source": [
    "### 11"
   ]
  },
  {
   "cell_type": "code",
   "execution_count": null,
   "metadata": {},
   "outputs": [],
   "source": [
    "# Delete one of the dictionaries (dog dictionary in this case)\n",
    "del dog"
   ]
  }
 ],
 "metadata": {
  "kernelspec": {
   "display_name": "arewa_ds",
   "language": "python",
   "name": "arewa_ds"
  },
  "language_info": {
   "codemirror_mode": {
    "name": "ipython",
    "version": 3
   },
   "file_extension": ".py",
   "mimetype": "text/x-python",
   "name": "python",
   "nbconvert_exporter": "python",
   "pygments_lexer": "ipython3",
   "version": "3.10.12"
  }
 },
 "nbformat": 4,
 "nbformat_minor": 2
}
