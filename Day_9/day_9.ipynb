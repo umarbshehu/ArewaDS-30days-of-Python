{
 "cells": [
  {
   "cell_type": "markdown",
   "metadata": {},
   "source": [
    "## LEVEL 1"
   ]
  },
  {
   "cell_type": "markdown",
   "metadata": {},
   "source": [
    "### 1"
   ]
  },
  {
   "cell_type": "code",
   "execution_count": 1,
   "metadata": {},
   "outputs": [
    {
     "name": "stdout",
     "output_type": "stream",
     "text": [
      "You are old enough to learn to drive.\n"
     ]
    }
   ],
   "source": [
    "# Task 1: Check if the user is old enough to drive\n",
    "user_age = int(input(\"Enter your age: \"))\n",
    "\n",
    "if user_age >= 18:\n",
    "    print(\"You are old enough to learn to drive.\")\n",
    "else:\n",
    "    years_to_wait = 18 - user_age\n",
    "    print(f\"You need {years_to_wait} more {'year' if years_to_wait == 1 else 'years'} to learn to drive.\")\n"
   ]
  },
  {
   "cell_type": "markdown",
   "metadata": {},
   "source": [
    "### 2"
   ]
  },
  {
   "cell_type": "code",
   "execution_count": 2,
   "metadata": {},
   "outputs": [
    {
     "name": "stdout",
     "output_type": "stream",
     "text": [
      "You are 2 years older than me.\n"
     ]
    }
   ],
   "source": [
    "# Task 2: Compare the values of my_age and your_age\n",
    "my_age = 25  # You can replace this with your age\n",
    "your_age = int(input(\"Enter your age: \"))\n",
    "\n",
    "if my_age > your_age:\n",
    "    age_difference = my_age - your_age\n",
    "    print(f\"You are {age_difference} {'year' if age_difference == 1 else 'years'} older than me.\")\n",
    "elif my_age < your_age:\n",
    "    age_difference = your_age - my_age\n",
    "    print(f\"I am {age_difference} {'year' if age_difference == 1 else 'years'} older than you.\")\n",
    "else:\n",
    "    print(\"We are the same age.\")"
   ]
  },
  {
   "cell_type": "markdown",
   "metadata": {},
   "source": [
    "### 3"
   ]
  },
  {
   "cell_type": "code",
   "execution_count": 3,
   "metadata": {},
   "outputs": [
    {
     "name": "stdout",
     "output_type": "stream",
     "text": [
      "3.0 is smaller than 6.0.\n"
     ]
    }
   ],
   "source": [
    "# Task 3: Compare two numbers entered by the user\n",
    "number_a = float(input(\"Enter number one: \"))\n",
    "number_b = float(input(\"Enter number two: \"))\n",
    "\n",
    "if number_a > number_b:\n",
    "    print(f\"{number_a} is greater than {number_b}.\")\n",
    "elif number_a < number_b:\n",
    "    print(f\"{number_a} is smaller than {number_b}.\")\n",
    "else:\n",
    "    print(f\"{number_a} is equal to {number_b}.\")\n"
   ]
  },
  {
   "cell_type": "markdown",
   "metadata": {},
   "source": [
    "## LEVEL 2"
   ]
  },
  {
   "cell_type": "markdown",
   "metadata": {},
   "source": [
    "### 1"
   ]
  },
  {
   "cell_type": "code",
   "execution_count": 4,
   "metadata": {},
   "outputs": [
    {
     "name": "stdout",
     "output_type": "stream",
     "text": [
      "Your grade is: F\n"
     ]
    }
   ],
   "source": [
    "# Task 1: Give grades to students according to their scores\n",
    "score = int(input(\"Enter your score: \"))\n",
    "\n",
    "if 80 <= score <= 100:\n",
    "    grade = 'A'\n",
    "elif 70 <= score <= 79:\n",
    "    grade = 'B'\n",
    "elif 60 <= score <= 69:\n",
    "    grade = 'C'\n",
    "elif 50 <= score <= 59:\n",
    "    grade = 'D'\n",
    "elif 0 <= score <= 49:\n",
    "    grade = 'F'\n",
    "else:\n",
    "    grade = 'Invalid score. Please enter a score between 0 and 100.'\n",
    "\n",
    "print(f\"Your grade is: {grade}\")"
   ]
  },
  {
   "cell_type": "markdown",
   "metadata": {},
   "source": [
    "### 2"
   ]
  },
  {
   "cell_type": "code",
   "execution_count": 7,
   "metadata": {},
   "outputs": [
    {
     "name": "stdout",
     "output_type": "stream",
     "text": [
      "The season is: Winter\n"
     ]
    }
   ],
   "source": [
    "# Task 2: Check the season based on user input\n",
    "month = input(\"Enter the month: \").lower()\n",
    "\n",
    "if month in ['september', 'october', 'november']:\n",
    "    season = 'Autumn'\n",
    "elif month in ['december', 'january', 'february']:\n",
    "    season = 'Winter'\n",
    "elif month in ['march', 'april', 'may']:\n",
    "    season = 'Spring'\n",
    "elif month in ['june', 'july', 'august']:\n",
    "    season = 'Summer'\n",
    "else:\n",
    "    season = 'Invalid month. Please enter a valid month.'\n",
    "\n",
    "print(f\"The season is: {season}\")\n"
   ]
  },
  {
   "cell_type": "markdown",
   "metadata": {},
   "source": [
    "### 3"
   ]
  },
  {
   "cell_type": "code",
   "execution_count": 8,
   "metadata": {},
   "outputs": [
    {
     "name": "stdout",
     "output_type": "stream",
     "text": [
      "Modified list of fruits: ['banana', 'orange', 'mango', 'lemon', 'orange ']\n"
     ]
    }
   ],
   "source": [
    "# Task 3: Modify the list of fruits\n",
    "fruits = ['banana', 'orange', 'mango', 'lemon']\n",
    "new_fruit = input(\"Enter a fruit to check: \").lower()\n",
    "\n",
    "if new_fruit not in fruits:\n",
    "    fruits.append(new_fruit)\n",
    "    print(\"Modified list of fruits:\", fruits)\n",
    "else:\n",
    "    print(\"That fruit already exists in the list.\")\n"
   ]
  },
  {
   "cell_type": "markdown",
   "metadata": {},
   "source": [
    "## LEVEL 3"
   ]
  },
  {
   "cell_type": "markdown",
   "metadata": {},
   "source": [
    "### 1"
   ]
  },
  {
   "cell_type": "code",
   "execution_count": 10,
   "metadata": {},
   "outputs": [
    {
     "name": "stdout",
     "output_type": "stream",
     "text": [
      "Middle skill in skills list: Linux\n",
      "The person has 'Python' skill.\n",
      "Unknown title.\n"
     ]
    }
   ],
   "source": [
    "person = {\n",
    "    'first_name': 'Umar',\n",
    "    'last_name': 'Shehu',\n",
    "    'age': 250,\n",
    "    'country': 'Mecca',\n",
    "    'is_married': True,\n",
    "    'skills': ['JavaScript', 'SQL', 'Linux', 'Docker', 'Python'],\n",
    "    'address': {\n",
    "        'street': 'Space street',\n",
    "        'zipcode': '02210'\n",
    "    }\n",
    "}\n",
    "\n",
    "# Check if the person dictionary has skills key\n",
    "if 'skills' in person:\n",
    "    skills_list = person['skills']\n",
    "    \n",
    "    # Print out the middle skill in the skills list\n",
    "    if len(skills_list) > 0:\n",
    "        middle_index = len(skills_list) // 2\n",
    "        print(f\"Middle skill in skills list: {skills_list[middle_index]}\")\n",
    "\n",
    "    # Check if the person has 'Python' skill and print out the result\n",
    "    if 'Python' in skills_list:\n",
    "        print(\"The person has 'Python' skill.\")\n",
    "    else:\n",
    "        print(\"The person does not have 'Python' skill.\")\n",
    "\n",
    "    # Determine the title based on skills\n",
    "    if set(skills_list) == {'JavaScript', 'React'}:\n",
    "        print(\"He is a front-end developer.\")\n",
    "    elif set(skills_list) == {'Node', 'Python', 'MongoDB'}:\n",
    "        print(\"He is a backend developer.\")\n",
    "    elif set(skills_list) == {'React', 'Node', 'MongoDB'}:\n",
    "        print(\"He is a fullstack developer.\")\n",
    "    else:\n",
    "        print(\"Unknown title.\")\n",
    "\n",
    "# Check if the person is married and lives in Finland\n",
    "if person.get('is_married') and person.get('country') == 'Finland':\n",
    "    print(f\"{person['first_name']} is married and lives in Finland.\")\n"
   ]
  }
 ],
 "metadata": {
  "kernelspec": {
   "display_name": "arewa_ds",
   "language": "python",
   "name": "arewa_ds"
  },
  "language_info": {
   "codemirror_mode": {
    "name": "ipython",
    "version": 3
   },
   "file_extension": ".py",
   "mimetype": "text/x-python",
   "name": "python",
   "nbconvert_exporter": "python",
   "pygments_lexer": "ipython3",
   "version": "3.10.12"
  }
 },
 "nbformat": 4,
 "nbformat_minor": 2
}
