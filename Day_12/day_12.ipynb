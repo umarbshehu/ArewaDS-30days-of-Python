{
 "cells": [
  {
   "cell_type": "markdown",
   "metadata": {},
   "source": [
    "## LEVEL 1"
   ]
  },
  {
   "cell_type": "markdown",
   "metadata": {},
   "source": [
    "### 1"
   ]
  },
  {
   "cell_type": "code",
   "execution_count": 2,
   "metadata": {},
   "outputs": [
    {
     "name": "stdout",
     "output_type": "stream",
     "text": [
      "02a4ed\n"
     ]
    }
   ],
   "source": [
    "import random\n",
    "\n",
    "# Task 1: Generate a six-digit/character random_user_id\n",
    "def random_user_id():\n",
    "    return ''.join(random.choice('0123456789abcdef') for _ in range(6))\n",
    "print(random_user_id())"
   ]
  },
  {
   "cell_type": "markdown",
   "metadata": {},
   "source": [
    "### 2"
   ]
  },
  {
   "cell_type": "code",
   "execution_count": 5,
   "metadata": {},
   "outputs": [
    {
     "name": "stdout",
     "output_type": "stream",
     "text": [
      "n8\n",
      "14\n",
      "wz\n"
     ]
    }
   ],
   "source": [
    "# Task 2: Generate user IDs based on user input\n",
    "def user_id_gen_by_user():\n",
    "    num_characters = int(input(\"Enter the number of characters for each ID: \"))\n",
    "    num_ids = int(input(\"Enter the number of IDs to be generated: \"))\n",
    "\n",
    "    user_ids = []\n",
    "    for _ in range(num_ids):\n",
    "        user_ids.append(''.join(random.choice('abcdefghijklmnopqrstuvwxyz0123456789') for _ in range(num_characters)))\n",
    "\n",
    "    return user_ids\n",
    "\n",
    "user_ids_result = user_id_gen_by_user()\n",
    "for user_id in user_ids_result:\n",
    "    print(user_id)"
   ]
  },
  {
   "cell_type": "markdown",
   "metadata": {},
   "source": [
    "### 3"
   ]
  },
  {
   "cell_type": "code",
   "execution_count": 6,
   "metadata": {},
   "outputs": [
    {
     "name": "stdout",
     "output_type": "stream",
     "text": [
      "rgb(191,93,89)\n"
     ]
    }
   ],
   "source": [
    "# Task 3: Generate RGB colors\n",
    "def rgb_color_gen():\n",
    "    r = random.randint(0, 255)\n",
    "    g = random.randint(0, 255)\n",
    "    b = random.randint(0, 255)\n",
    "    return f\"rgb({r},{g},{b})\"\n",
    "\n",
    "print(rgb_color_gen())"
   ]
  },
  {
   "cell_type": "markdown",
   "metadata": {},
   "source": [
    "## LEVEL 2"
   ]
  },
  {
   "cell_type": "markdown",
   "metadata": {},
   "source": [
    "### 1"
   ]
  },
  {
   "cell_type": "code",
   "execution_count": 9,
   "metadata": {},
   "outputs": [
    {
     "name": "stdout",
     "output_type": "stream",
     "text": [
      "['#c769d0', '#b084e8', '#004cff']\n",
      "['#2c3c7e']\n"
     ]
    }
   ],
   "source": [
    "import random\n",
    "\n",
    "# Task 1: Generate a list of hexadecimal colors\n",
    "def list_of_hexa_colors(num_colors):\n",
    "    hexa_colors = ['#' + ''.join(random.choice('0123456789abcdef') for _ in range(6)) for _ in range(num_colors)]\n",
    "    return hexa_colors\n",
    "\n",
    "print(list_of_hexa_colors(3))\n",
    "print(list_of_hexa_colors(1))"
   ]
  },
  {
   "cell_type": "markdown",
   "metadata": {},
   "source": [
    "### 2"
   ]
  },
  {
   "cell_type": "code",
   "execution_count": 11,
   "metadata": {},
   "outputs": [
    {
     "name": "stdout",
     "output_type": "stream",
     "text": [
      "['rgb(247,119,20)', 'rgb(165,7,76)', 'rgb(91,211,117)']\n"
     ]
    }
   ],
   "source": [
    "# Task 2: Generate a list of RGB colors\n",
    "def list_of_rgb_colors(num_colors):\n",
    "    rgb_colors = [f\"rgb({random.randint(0, 255)},{random.randint(0, 255)},{random.randint(0, 255)})\" for _ in range(num_colors)]\n",
    "    return rgb_colors\n",
    "\n",
    "print(list_of_rgb_colors(3))"
   ]
  },
  {
   "cell_type": "markdown",
   "metadata": {},
   "source": [
    "### 3"
   ]
  },
  {
   "cell_type": "code",
   "execution_count": 13,
   "metadata": {},
   "outputs": [
    {
     "name": "stdout",
     "output_type": "stream",
     "text": [
      "['rgb(241,11,179)']\n"
     ]
    }
   ],
   "source": [
    "# Task 3: Generate colors based on type and quantity\n",
    "def generate_colors(color_type, num_colors):\n",
    "    if color_type.lower() == 'hexa':\n",
    "        return list_of_hexa_colors(num_colors)\n",
    "    elif color_type.lower() == 'rgb':\n",
    "        return list_of_rgb_colors(num_colors)\n",
    "    else:\n",
    "        return \"Invalid color type. Use 'hexa' or 'rgb'.\"\n",
    "\n",
    "print(generate_colors('rgb', 1))"
   ]
  },
  {
   "cell_type": "markdown",
   "metadata": {},
   "source": [
    "### LEVEL 3"
   ]
  },
  {
   "cell_type": "markdown",
   "metadata": {},
   "source": [
    "### 1"
   ]
  },
  {
   "cell_type": "code",
   "execution_count": 16,
   "metadata": {},
   "outputs": [
    {
     "name": "stdout",
     "output_type": "stream",
     "text": [
      "Shuffled List: <function shuffle_list at 0x7fabdc2db520>\n"
     ]
    }
   ],
   "source": [
    "import random\n",
    "\n",
    "# Task 1: Shuffle a list\n",
    "def shuffle_list(input_list):\n",
    "    shuffled_list = input_list.copy()  # To avoid modifying the original list\n",
    "    random.shuffle(shuffled_list)\n",
    "    return shuffled_list\n",
    "\n",
    "print(\"Shuffled List:\", shuffle_list)"
   ]
  },
  {
   "cell_type": "markdown",
   "metadata": {},
   "source": [
    "### 2"
   ]
  },
  {
   "cell_type": "code",
   "execution_count": 14,
   "metadata": {},
   "outputs": [
    {
     "name": "stdout",
     "output_type": "stream",
     "text": [
      "<function generate_unique_numbers at 0x7fabcd63d7e0>\n"
     ]
    }
   ],
   "source": [
    "# Task 2: Generate an array of seven unique random numbers in the range of 0-9\n",
    "def generate_unique_numbers():\n",
    "    unique_numbers = random.sample(range(10), 7)\n",
    "    return unique_numbers\n",
    "print(generate_unique_numbers)"
   ]
  }
 ],
 "metadata": {
  "kernelspec": {
   "display_name": "arewa_ds",
   "language": "python",
   "name": "arewa_ds"
  },
  "language_info": {
   "codemirror_mode": {
    "name": "ipython",
    "version": 3
   },
   "file_extension": ".py",
   "mimetype": "text/x-python",
   "name": "python",
   "nbconvert_exporter": "python",
   "pygments_lexer": "ipython3",
   "version": "3.10.12"
  }
 },
 "nbformat": 4,
 "nbformat_minor": 2
}
