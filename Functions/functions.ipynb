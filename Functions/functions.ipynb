{
 "cells": [
  {
   "cell_type": "markdown",
   "metadata": {},
   "source": [
    "## PYTHON FUNCTIONS FROM THE BOOK 'PYTHON CRASH COURSE'"
   ]
  },
  {
   "cell_type": "markdown",
   "metadata": {},
   "source": [
    "### TRY IT YOURSELF "
   ]
  },
  {
   "cell_type": "markdown",
   "metadata": {},
   "source": [
    "### 8-1. Message:"
   ]
  },
  {
   "cell_type": "code",
   "execution_count": 1,
   "metadata": {},
   "outputs": [
    {
     "name": "stdout",
     "output_type": "stream",
     "text": [
      "In this chapter, I am learning about Python functions.\n"
     ]
    }
   ],
   "source": [
    "def display_message():\n",
    "    print(\"In this chapter, I am learning about Python functions.\")\n",
    "\n",
    "# Call the function to display the message\n",
    "display_message()\n"
   ]
  },
  {
   "cell_type": "markdown",
   "metadata": {},
   "source": [
    "### 8-2. Favorite Book:"
   ]
  },
  {
   "cell_type": "code",
   "execution_count": 2,
   "metadata": {},
   "outputs": [
    {
     "name": "stdout",
     "output_type": "stream",
     "text": [
      "One of my favorite books is Alice in Wonderland.\n"
     ]
    }
   ],
   "source": [
    "def favorite_book(title):\n",
    "    print(f\"One of my favorite books is {title}.\")\n",
    "\n",
    "# Call the function with a specific book title\n",
    "favorite_book(\"Alice in Wonderland\")\n"
   ]
  },
  {
   "cell_type": "markdown",
   "metadata": {},
   "source": [
    "### 8-3. T-Shirt:"
   ]
  },
  {
   "cell_type": "code",
   "execution_count": 3,
   "metadata": {},
   "outputs": [
    {
     "name": "stdout",
     "output_type": "stream",
     "text": [
      "\n",
      "Making a shirt of size Medium.\n",
      "Message on the shirt: Hello World!\n",
      "\n",
      "Making a shirt of size Large.\n",
      "Message on the shirt: Python Rocks!\n"
     ]
    }
   ],
   "source": [
    "def make_shirt(size, message):\n",
    "    print(f\"\\nMaking a shirt of size {size}.\")\n",
    "    print(f\"Message on the shirt: {message}\")\n",
    "\n",
    "# Call the function using positional arguments\n",
    "make_shirt('Medium', 'Hello World!')\n",
    "\n",
    "# Call the function using keyword arguments\n",
    "make_shirt(size='Large', message='Python Rocks!')\n"
   ]
  },
  {
   "cell_type": "markdown",
   "metadata": {},
   "source": [
    "### 8-4. Large Shirts:"
   ]
  },
  {
   "cell_type": "code",
   "execution_count": 4,
   "metadata": {},
   "outputs": [
    {
     "name": "stdout",
     "output_type": "stream",
     "text": [
      "\n",
      "Making a shirt of size Large.\n",
      "Message on the shirt: I love Python\n",
      "\n",
      "Making a shirt of size Medium.\n",
      "Message on the shirt: I love Python\n",
      "\n",
      "Making a shirt of size Small.\n",
      "Message on the shirt: Keep Coding!\n"
     ]
    }
   ],
   "source": [
    "def make_shirt(size='Large', message='I love Python'):\n",
    "    print(f\"\\nMaking a shirt of size {size}.\")\n",
    "    print(f\"Message on the shirt: {message}\")\n",
    "\n",
    "# Make a large shirt with the default message\n",
    "make_shirt()\n",
    "\n",
    "# Make a medium shirt with the default message\n",
    "make_shirt(size='Medium')\n",
    "\n",
    "# Make a shirt of any size with a different message\n",
    "make_shirt(size='Small', message='Keep Coding!')\n"
   ]
  },
  {
   "cell_type": "markdown",
   "metadata": {},
   "source": [
    "### 8-5. Cities:"
   ]
  },
  {
   "cell_type": "code",
   "execution_count": 5,
   "metadata": {},
   "outputs": [
    {
     "name": "stdout",
     "output_type": "stream",
     "text": [
      "Russia is in Nigeria.\n",
      "Paris is in France.\n",
      "Canada is in Unknown.\n"
     ]
    }
   ],
   "source": [
    "def describe_city(city, country='Unknown'):\n",
    "    print(f\"{city} is in {country}.\")\n",
    "\n",
    "# Call the function for three different cities\n",
    "describe_city('Russia', 'Nigeria')\n",
    "describe_city('Paris', 'France')\n",
    "describe_city('Canada')  # This will use the default country ('Unknown')\n"
   ]
  },
  {
   "cell_type": "markdown",
   "metadata": {},
   "source": [
    "### 8-6. City Names"
   ]
  },
  {
   "cell_type": "code",
   "execution_count": 6,
   "metadata": {},
   "outputs": [
    {
     "name": "stdout",
     "output_type": "stream",
     "text": [
      "Santiago, Chile\n",
      "Tokyo, Japan\n",
      "Paris, France\n"
     ]
    }
   ],
   "source": [
    "def city_country(city, country):\n",
    "    return f\"{city}, {country}\"\n",
    "\n",
    "# Call the function with at least three city-country pairs\n",
    "location1 = city_country('Santiago', 'Chile')\n",
    "location2 = city_country('Tokyo', 'Japan')\n",
    "location3 = city_country('Paris', 'France')\n",
    "\n",
    "# Print the values returned by the function\n",
    "print(location1)\n",
    "print(location2)\n",
    "print(location3)\n"
   ]
  },
  {
   "cell_type": "markdown",
   "metadata": {},
   "source": [
    "### 8-7. Album"
   ]
  },
  {
   "cell_type": "code",
   "execution_count": 7,
   "metadata": {},
   "outputs": [
    {
     "name": "stdout",
     "output_type": "stream",
     "text": [
      "{'artist': 'Ed Sheeran', 'title': 'Divide'}\n",
      "{'artist': 'Taylor Swift', 'title': '1989', 'songs': 16}\n",
      "{'artist': 'Adele', 'title': '25', 'songs': 11}\n"
     ]
    }
   ],
   "source": [
    "def make_album(artist, title, songs=None):\n",
    "    album = {'artist': artist, 'title': title}\n",
    "    if songs is not None:\n",
    "        album['songs'] = songs\n",
    "    return album\n",
    "\n",
    "# Make three dictionaries representing different albums\n",
    "album1 = make_album('Ed Sheeran', 'Divide')\n",
    "album2 = make_album('Taylor Swift', '1989', 16)\n",
    "album3 = make_album('Adele', '25', 11)\n",
    "\n",
    "# Print each return value to show that the dictionaries are storing the album information correctly\n",
    "print(album1)\n",
    "print(album2)\n",
    "print(album3)\n"
   ]
  },
  {
   "cell_type": "markdown",
   "metadata": {},
   "source": [
    "### 8-8. User Albums"
   ]
  },
  {
   "cell_type": "code",
   "execution_count": 8,
   "metadata": {},
   "outputs": [
    {
     "name": "stdout",
     "output_type": "stream",
     "text": [
      "{'artist': 'alx', 'title': 'tr', 'songs': 5}\n"
     ]
    }
   ],
   "source": [
    "def make_album(artist, title, songs=None):\n",
    "    album = {'artist': artist, 'title': title}\n",
    "    if songs is not None:\n",
    "        album['songs'] = songs\n",
    "    return album\n",
    "\n",
    "while True:\n",
    "    # Get user input for artist and title\n",
    "    artist = input(\"Enter the artist of the album (or 'quit' to exit): \")\n",
    "    \n",
    "    # Check if the user wants to quit\n",
    "    if artist.lower() == 'quit':\n",
    "        break\n",
    "    \n",
    "    title = input(\"Enter the title of the album: \")\n",
    "    \n",
    "    # Get user input for the number of songs (optional)\n",
    "    songs_input = input(\"Enter the number of songs on the album (or press Enter for none): \")\n",
    "    if songs_input:\n",
    "        try:\n",
    "            songs = int(songs_input)\n",
    "        except ValueError:\n",
    "            print(\"Invalid input for the number of songs. Assuming none.\")\n",
    "            songs = None\n",
    "    else:\n",
    "        songs = None\n",
    "    \n",
    "    # Call make_album with user input and print the resulting dictionary\n",
    "    album_info = make_album(artist, title, songs)\n",
    "    print(album_info)\n"
   ]
  },
  {
   "cell_type": "markdown",
   "metadata": {},
   "source": [
    "### 8-9. Messages"
   ]
  },
  {
   "cell_type": "code",
   "execution_count": 9,
   "metadata": {},
   "outputs": [
    {
     "name": "stdout",
     "output_type": "stream",
     "text": [
      "Hello, how are you?\n",
      "Just checking in!\n",
      "Remember to stay positive.\n",
      "Coding is fun!\n",
      "Have a great day!\n"
     ]
    }
   ],
   "source": [
    "def show_messages(messages):\n",
    "    for message in messages:\n",
    "        print(message)\n",
    "\n",
    "# Define a list of short text messages\n",
    "text_messages = [\n",
    "    'Hello, how are you?',\n",
    "    'Just checking in!',\n",
    "    'Remember to stay positive.',\n",
    "    'Coding is fun!',\n",
    "    'Have a great day!'\n",
    "]\n",
    "\n",
    "# Call the show_messages function and pass the list of messages\n",
    "show_messages(text_messages)\n"
   ]
  },
  {
   "cell_type": "markdown",
   "metadata": {},
   "source": [
    "### 8-10. Sending Messages"
   ]
  },
  {
   "cell_type": "code",
   "execution_count": 10,
   "metadata": {},
   "outputs": [
    {
     "name": "stdout",
     "output_type": "stream",
     "text": [
      "Sending message: Hello, how are you?\n",
      "Sending message: Just checking in!\n",
      "Sending message: Remember to stay positive.\n",
      "Sending message: Coding is fun!\n",
      "Sending message: Have a great day!\n",
      "Original Messages:\n",
      "\n",
      "Sent Messages:\n",
      "Hello, how are you?\n",
      "Just checking in!\n",
      "Remember to stay positive.\n",
      "Coding is fun!\n",
      "Have a great day!\n"
     ]
    }
   ],
   "source": [
    "def show_messages(messages):\n",
    "    for message in messages:\n",
    "        print(message)\n",
    "\n",
    "def send_messages(messages, sent_messages):\n",
    "    while messages:\n",
    "        current_message = messages.pop(0)\n",
    "        print(f\"Sending message: {current_message}\")\n",
    "        sent_messages.append(current_message)\n",
    "\n",
    "# Define a list of short text messages\n",
    "text_messages = [\n",
    "    'Hello, how are you?',\n",
    "    'Just checking in!',\n",
    "    'Remember to stay positive.',\n",
    "    'Coding is fun!',\n",
    "    'Have a great day!'\n",
    "]\n",
    "\n",
    "# Create an empty list for sent messages\n",
    "sent_messages = []\n",
    "\n",
    "# Call the send_messages function to send messages and move them to sent_messages\n",
    "send_messages(text_messages, sent_messages)\n",
    "\n",
    "# Print the original list of messages and the list of sent messages\n",
    "print(\"Original Messages:\")\n",
    "show_messages(text_messages)\n",
    "\n",
    "print(\"\\nSent Messages:\")\n",
    "show_messages(sent_messages)\n"
   ]
  },
  {
   "cell_type": "markdown",
   "metadata": {},
   "source": [
    "### 8-11. Archived Messages"
   ]
  },
  {
   "cell_type": "code",
   "execution_count": 11,
   "metadata": {},
   "outputs": [
    {
     "name": "stdout",
     "output_type": "stream",
     "text": [
      "Sending message: Hello, how are you?\n",
      "Sending message: Just checking in!\n",
      "Sending message: Remember to stay positive.\n",
      "Sending message: Coding is fun!\n",
      "Sending message: Have a great day!\n",
      "Original Messages:\n",
      "Hello, how are you?\n",
      "Just checking in!\n",
      "Remember to stay positive.\n",
      "Coding is fun!\n",
      "Have a great day!\n",
      "\n",
      "Sent Messages:\n",
      "Hello, how are you?\n",
      "Just checking in!\n",
      "Remember to stay positive.\n",
      "Coding is fun!\n",
      "Have a great day!\n"
     ]
    }
   ],
   "source": [
    "def show_messages(messages):\n",
    "    for message in messages:\n",
    "        print(message)\n",
    "\n",
    "def send_messages(messages, sent_messages):\n",
    "    while messages:\n",
    "        current_message = messages.pop(0)\n",
    "        print(f\"Sending message: {current_message}\")\n",
    "        sent_messages.append(current_message)\n",
    "\n",
    "# Define a list of short text messages\n",
    "text_messages = [\n",
    "    'Hello, how are you?',\n",
    "    'Just checking in!',\n",
    "    'Remember to stay positive.',\n",
    "    'Coding is fun!',\n",
    "    'Have a great day!'\n",
    "]\n",
    "\n",
    "# Create a copy of the original list of messages\n",
    "messages_copy = text_messages.copy()\n",
    "\n",
    "# Create an empty list for sent messages\n",
    "sent_messages = []\n",
    "\n",
    "# Call the send_messages function to send messages and move them to sent_messages\n",
    "send_messages(messages_copy, sent_messages)\n",
    "\n",
    "# Print the original list of messages and the list of sent messages\n",
    "print(\"Original Messages:\")\n",
    "show_messages(text_messages)\n",
    "\n",
    "print(\"\\nSent Messages:\")\n",
    "show_messages(sent_messages)\n"
   ]
  },
  {
   "cell_type": "markdown",
   "metadata": {},
   "source": [
    "### 8-12. Sandwiches"
   ]
  },
  {
   "cell_type": "code",
   "execution_count": 12,
   "metadata": {},
   "outputs": [
    {
     "name": "stdout",
     "output_type": "stream",
     "text": [
      "\n",
      "Making a Sandwich with the following ingredients:\n",
      "- Ham\n",
      "- Cheese\n",
      "- Cabbage\n",
      "- Tomato\n",
      "Sandwich is ready!\n",
      "\n",
      "Making a Sandwich with the following ingredients:\n",
      "- Turkey\n",
      "- Shawarma\n",
      "- Jelly\n",
      "Sandwich is ready!\n",
      "\n",
      "Making a Sandwich with the following ingredients:\n",
      "- African Salad\n",
      "- Cucumber\n",
      "- Onion\n",
      "- Mayonnaise\n",
      "Sandwich is ready!\n"
     ]
    }
   ],
   "source": [
    "def make_sandwich(*ingredients):\n",
    "    print(\"\\nMaking a Sandwich with the following ingredients:\")\n",
    "    for ingredient in ingredients:\n",
    "        print(f\"- {ingredient}\")\n",
    "    print(\"Sandwich is ready!\")\n",
    "\n",
    "# Call the function with different numbers of arguments\n",
    "make_sandwich('Ham', 'Cheese', 'Cabbage', 'Tomato')\n",
    "make_sandwich('Turkey', 'Shawarma', 'Jelly')\n",
    "make_sandwich('African Salad', 'Cucumber', 'Onion', 'Mayonnaise')\n"
   ]
  },
  {
   "cell_type": "markdown",
   "metadata": {},
   "source": [
    "### 8-13. User Profile"
   ]
  },
  {
   "cell_type": "code",
   "execution_count": 15,
   "metadata": {},
   "outputs": [
    {
     "name": "stdout",
     "output_type": "stream",
     "text": [
      "User Profile:\n",
      "First_name: Umar\n",
      "Last_name: Shehu\n",
      "Age: 25\n",
      "Occupation: Data Scientist\n",
      "Country: Nigeria\n",
      "Hobbies: ['Programming', 'Reading', 'Traveling']\n"
     ]
    }
   ],
   "source": [
    "def build_profile(first_name, last_name, **additional_info):\n",
    "    # Build a dictionary with user profile information\n",
    "    profile = {\n",
    "        'first_name': first_name,\n",
    "        'last_name': last_name,\n",
    "    }\n",
    "    profile.update(additional_info)\n",
    "    return profile\n",
    "\n",
    "# Build a profile of yourself\n",
    "my_profile = build_profile(\n",
    "    first_name='Umar',\n",
    "    last_name='Shehu',\n",
    "    age=25,\n",
    "    occupation='Data Scientist',\n",
    "    country='Nigeria',\n",
    "    hobbies=['Programming', 'Reading', 'Traveling']\n",
    ")\n",
    "\n",
    "# Print the user profile\n",
    "print(\"User Profile:\")\n",
    "for key, value in my_profile.items():\n",
    "    print(f\"{key.capitalize()}: {value}\")\n"
   ]
  },
  {
   "cell_type": "markdown",
   "metadata": {},
   "source": [
    "### 8-14. Cars"
   ]
  },
  {
   "cell_type": "code",
   "execution_count": 17,
   "metadata": {},
   "outputs": [
    {
     "name": "stdout",
     "output_type": "stream",
     "text": [
      "Car Information:\n",
      "Manufacturer: Honda\n",
      "Model: outback\n",
      "Color: grey\n",
      "Tow_package: True\n"
     ]
    }
   ],
   "source": [
    "def make_car(manufacturer, model, **kwargs):\n",
    "    # Create a dictionary to store car information\n",
    "    car_info = {\n",
    "        'manufacturer': manufacturer,\n",
    "        'model': model,\n",
    "    }\n",
    "    car_info.update(kwargs)\n",
    "    return car_info\n",
    "\n",
    "# Call the function with car information and additional details\n",
    "car = make_car('Honda', 'outback', color='grey', tow_package=True)\n",
    "\n",
    "# Print the dictionary that's returned\n",
    "print(\"Car Information:\")\n",
    "for key, value in car.items():\n",
    "    print(f\"{key.capitalize()}: {value}\")\n"
   ]
  },
  {
   "cell_type": "markdown",
   "metadata": {},
   "source": [
    "### 8-15. Printing Models"
   ]
  },
  {
   "cell_type": "code",
   "execution_count": 19,
   "metadata": {},
   "outputs": [
    {
     "name": "stdout",
     "output_type": "stream",
     "text": [
      "Printing model: dodecahedron\n",
      "Printing model: robot pendant\n",
      "Printing model: phone case\n",
      "\n",
      "Completed models:\n",
      "dodecahedron\n",
      "robot pendant\n",
      "phone case\n"
     ]
    }
   ],
   "source": [
    "# printing_models.py\n",
    "# Importing functions from printing_functions module\n",
    "from printing_functions import print_models, show_completed_models\n",
    "\n",
    "# Sample data\n",
    "designs_to_print = ['phone case', 'robot pendant', 'dodecahedron']\n",
    "completed_models = []\n",
    "\n",
    "# Function calls from the imported module\n",
    "print_models(designs_to_print[:], completed_models)\n",
    "show_completed_models(completed_models)\n"
   ]
  },
  {
   "cell_type": "markdown",
   "metadata": {},
   "source": [
    "### 8-16. Imports"
   ]
  },
  {
   "cell_type": "code",
   "execution_count": 18,
   "metadata": {},
   "outputs": [
    {
     "name": "stdout",
     "output_type": "stream",
     "text": [
      "Hello, Alice!\n",
      "Hello, Alice!\n",
      "Hello, Alice!\n",
      "Hello, Alice!\n",
      "Hello, Alice!\n"
     ]
    }
   ],
   "source": [
    "# main_program.py\n",
    "\n",
    "# Import approaches\n",
    "import my_function\n",
    "from my_function import greet\n",
    "from my_function import greet as greet_alias\n",
    "import my_function as mf\n",
    "from my_function import *\n",
    "\n",
    "# Using the imported function in each approach\n",
    "name = \"Alice\"\n",
    "\n",
    "# Approach 1\n",
    "result_1 = my_function.greet(name)\n",
    "print(result_1)\n",
    "\n",
    "# Approach 2\n",
    "result_2 = greet(name)\n",
    "print(result_2)\n",
    "\n",
    "# Approach 3\n",
    "result_3 = greet_alias(name)\n",
    "print(result_3)\n",
    "\n",
    "# Approach 4\n",
    "result_4 = mf.greet(name)\n",
    "print(result_4)\n",
    "\n",
    "# Approach 5\n",
    "result_5 = greet(name)  # Assuming greet is the only function in my_function\n",
    "print(result_5)\n"
   ]
  }
 ],
 "metadata": {
  "kernelspec": {
   "display_name": "arewa_ds",
   "language": "python",
   "name": "arewa_ds"
  },
  "language_info": {
   "codemirror_mode": {
    "name": "ipython",
    "version": 3
   },
   "file_extension": ".py",
   "mimetype": "text/x-python",
   "name": "python",
   "nbconvert_exporter": "python",
   "pygments_lexer": "ipython3",
   "version": "3.10.12"
  }
 },
 "nbformat": 4,
 "nbformat_minor": 2
}
