{
 "cells": [
  {
   "cell_type": "markdown",
   "metadata": {},
   "source": [
    "Exercise: 1"
   ]
  },
  {
   "cell_type": "code",
   "execution_count": null,
   "metadata": {},
   "outputs": [],
   "source": [
    "# Create an empty tuple\n",
    "empty_tuple = ()"
   ]
  },
  {
   "cell_type": "markdown",
   "metadata": {},
   "source": [
    "2"
   ]
  },
  {
   "cell_type": "code",
   "execution_count": null,
   "metadata": {},
   "outputs": [],
   "source": [
    "# Create a tuple containing names of your sisters and your brothers (imaginary siblings are fine)\n",
    "\n",
    "family_names = (\"hue\", \"janmes\", \"annabel\", \"fred\", \"chu\")"
   ]
  },
  {
   "cell_type": "markdown",
   "metadata": {},
   "source": [
    "3"
   ]
  },
  {
   "cell_type": "code",
   "execution_count": 1,
   "metadata": {},
   "outputs": [
    {
     "name": "stdout",
     "output_type": "stream",
     "text": [
      "('ken', 'chuks', 'greg', 'kelly', 'melind', 'Cynthia')\n"
     ]
    }
   ],
   "source": [
    "# Join brothers and sisters tuples and assign it to siblings\n",
    "\n",
    "brothers = (\"ken\", \"chuks\", \"greg\")\n",
    "sisters = (\"kelly\", \"melind\", \"Cynthia\")\n",
    "\n",
    "siblings = brothers + sisters\n",
    "print(siblings)"
   ]
  },
  {
   "cell_type": "markdown",
   "metadata": {},
   "source": [
    "4"
   ]
  },
  {
   "cell_type": "code",
   "execution_count": 2,
   "metadata": {},
   "outputs": [
    {
     "name": "stdout",
     "output_type": "stream",
     "text": [
      "6\n"
     ]
    }
   ],
   "source": [
    "# How many siblings do you have?\n",
    "number_of_siblings = len(siblings)\n",
    "print(number_of_siblings)"
   ]
  },
  {
   "cell_type": "markdown",
   "metadata": {},
   "source": [
    "5"
   ]
  },
  {
   "cell_type": "code",
   "execution_count": 7,
   "metadata": {},
   "outputs": [
    {
     "name": "stdout",
     "output_type": "stream",
     "text": [
      "('ken', 'chuks', 'greg', 'kelly', 'melind', 'Cynthia', 'dad', 'mum')\n"
     ]
    }
   ],
   "source": [
    "# Modify the siblings tuple and add the name of your father and mother and assign it to family_members\n",
    "brothers = (\"ken\", \"chuks\", \"greg\")\n",
    "sisters = (\"kelly\", \"melind\", \"Cynthia\")\n",
    "\n",
    "father = (\"dad\", )\n",
    "mother = (\"mum\", )\n",
    "\n",
    "family = brothers + sisters +father + mother\n",
    "print(family)"
   ]
  },
  {
   "cell_type": "markdown",
   "metadata": {},
   "source": [
    "Exercise: 2"
   ]
  },
  {
   "cell_type": "markdown",
   "metadata": {},
   "source": [
    "1"
   ]
  },
  {
   "cell_type": "code",
   "execution_count": null,
   "metadata": {},
   "outputs": [],
   "source": [
    "# Unpack siblings and parents from family_members"
   ]
  },
  {
   "cell_type": "markdown",
   "metadata": {},
   "source": [
    "2"
   ]
  },
  {
   "cell_type": "code",
   "execution_count": 9,
   "metadata": {},
   "outputs": [
    {
     "name": "stdout",
     "output_type": "stream",
     "text": [
      "('mango', 'apple', 'avocado', 'watermelon', 'spinash', 'cabbage', 'cucumber', 'lettuce', 'beef', 'milk', 'cheese')\n"
     ]
    }
   ],
   "source": [
    "# Create fruits, vegetables and animal products tuples. Join the three tuples and assign it to a variable called food_stuff_tp.\n",
    "# fruits \n",
    "fruits = (\"mango\", \"apple\", \"avocado\", \"watermelon\")\n",
    "\n",
    "# vegetables\n",
    "vegetables = (\"spinash\", \"cabbage\", \"cucumber\", \"lettuce\")\n",
    "\n",
    "# animal product\n",
    "animal_product = (\"beef\", \"milk\", \"cheese\")\n",
    "\n",
    "# joining all\n",
    "food_stuff_tp = fruits + vegetables + animal_product\n",
    "print(food_stuff_tp)\n"
   ]
  },
  {
   "cell_type": "markdown",
   "metadata": {},
   "source": [
    "3"
   ]
  },
  {
   "cell_type": "code",
   "execution_count": 2,
   "metadata": {},
   "outputs": [
    {
     "name": "stdout",
     "output_type": "stream",
     "text": [
      "('mango', 'apple', 'avocado', 'watermelon', 'spinash', 'cabbage', 'cucumber', 'lettuce', 'beef', 'milk', 'cheese')\n",
      "------------------------------------\n",
      "['mango', 'apple', 'avocado', 'watermelon', 'spinash', 'cabbage', 'cucumber', 'lettuce', 'beef', 'milk', 'cheese']\n"
     ]
    }
   ],
   "source": [
    "# Change the about food_stuff_tp tuple to a food_stuff_lt list\n",
    "fruits = (\"mango\", \"apple\", \"avocado\", \"watermelon\")\n",
    "vegetables = (\"spinash\", \"cabbage\", \"cucumber\", \"lettuce\")\n",
    "animal_product = (\"beef\", \"milk\", \"cheese\")\n",
    "\n",
    "food_stuff_tp = fruits + vegetables + animal_product\n",
    "print(food_stuff_tp)\n",
    "\n",
    "print(\"------------------------------------\")\n",
    "\n",
    "# coverting food_stuff_tp to a list\n",
    "lst = list(food_stuff_tp)\n",
    "print(lst)\n"
   ]
  },
  {
   "cell_type": "markdown",
   "metadata": {},
   "source": [
    "4"
   ]
  },
  {
   "cell_type": "code",
   "execution_count": 6,
   "metadata": {},
   "outputs": [
    {
     "name": "stdout",
     "output_type": "stream",
     "text": [
      "11\n"
     ]
    },
    {
     "ename": "TypeError",
     "evalue": "'int' object is not subscriptable",
     "output_type": "error",
     "traceback": [
      "\u001b[0;31m---------------------------------------------------------------------------\u001b[0m",
      "\u001b[0;31mTypeError\u001b[0m                                 Traceback (most recent call last)",
      "\u001b[1;32m/home/ubs/Desktop/ArewaDS/ArewaDS-30days-of-Python/Day_6/day_6.ipynb Cell 19\u001b[0m line \u001b[0;36m6\n\u001b[1;32m      <a href='vscode-notebook-cell:/home/ubs/Desktop/ArewaDS/ArewaDS-30days-of-Python/Day_6/day_6.ipynb#X24sZmlsZQ%3D%3D?line=2'>3</a>\u001b[0m \u001b[39mprint\u001b[39m(ln)\n\u001b[1;32m      <a href='vscode-notebook-cell:/home/ubs/Desktop/ArewaDS/ArewaDS-30days-of-Python/Day_6/day_6.ipynb#X24sZmlsZQ%3D%3D?line=4'>5</a>\u001b[0m \u001b[39m# slice out the middle item\u001b[39;00m\n\u001b[0;32m----> <a href='vscode-notebook-cell:/home/ubs/Desktop/ArewaDS/ArewaDS-30days-of-Python/Day_6/day_6.ipynb#X24sZmlsZQ%3D%3D?line=5'>6</a>\u001b[0m slicing \u001b[39m=\u001b[39m ln[\u001b[39m5\u001b[39;49m:]\n\u001b[1;32m      <a href='vscode-notebook-cell:/home/ubs/Desktop/ArewaDS/ArewaDS-30days-of-Python/Day_6/day_6.ipynb#X24sZmlsZQ%3D%3D?line=6'>7</a>\u001b[0m \u001b[39mprint\u001b[39m(slicing)\n",
      "\u001b[0;31mTypeError\u001b[0m: 'int' object is not subscriptable"
     ]
    }
   ],
   "source": [
    "# Slice out the middle item or items from the food_stuff_tp tuple or food_stuff_lt list.\n",
    "ln = len(lst)\n",
    "print(ln)\n",
    "\n",
    "# slice out the middle item\n",
    "slicing = ln[5:]\n",
    "print(slicing)\n"
   ]
  },
  {
   "cell_type": "markdown",
   "metadata": {},
   "source": [
    "5"
   ]
  },
  {
   "cell_type": "code",
   "execution_count": null,
   "metadata": {},
   "outputs": [],
   "source": [
    "# Slice out the first three items and the last three items from food_staff_lt list\n"
   ]
  }
 ],
 "metadata": {
  "kernelspec": {
   "display_name": "arewa_ds",
   "language": "python",
   "name": "arewa_ds"
  },
  "language_info": {
   "codemirror_mode": {
    "name": "ipython",
    "version": 3
   },
   "file_extension": ".py",
   "mimetype": "text/x-python",
   "name": "python",
   "nbconvert_exporter": "python",
   "pygments_lexer": "ipython3",
   "version": "3.10.12"
  }
 },
 "nbformat": 4,
 "nbformat_minor": 2
}
