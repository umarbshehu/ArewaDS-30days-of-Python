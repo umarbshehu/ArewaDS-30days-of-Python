{
 "cells": [
  {
   "cell_type": "markdown",
   "metadata": {},
   "source": [
    "Exercises: Day 3"
   ]
  },
  {
   "cell_type": "markdown",
   "metadata": {},
   "source": [
    "1"
   ]
  },
  {
   "cell_type": "code",
   "execution_count": null,
   "metadata": {},
   "outputs": [],
   "source": [
    "# Declare your age as integer variable\n",
    "age = 21"
   ]
  },
  {
   "cell_type": "markdown",
   "metadata": {},
   "source": [
    "2"
   ]
  },
  {
   "cell_type": "code",
   "execution_count": null,
   "metadata": {},
   "outputs": [],
   "source": [
    "# Declare your height as a float variable\n",
    "height = 6.5"
   ]
  },
  {
   "cell_type": "markdown",
   "metadata": {},
   "source": [
    "3"
   ]
  },
  {
   "cell_type": "code",
   "execution_count": null,
   "metadata": {},
   "outputs": [],
   "source": [
    "# Declare a variable that store a complex number\n",
    "complx_num = 2 * 5j"
   ]
  },
  {
   "cell_type": "markdown",
   "metadata": {},
   "source": [
    "4"
   ]
  },
  {
   "cell_type": "code",
   "execution_count": null,
   "metadata": {},
   "outputs": [],
   "source": [
    "# Write a script that prompts the user to enter base and height of the triangle and calculate an area of this triangle (area = 0.5 x b x h)\n",
    "\n",
    "b = int(input(\"Enter the base: \"))\n",
    "h = int(input(\"Enter the height: \"))\n",
    "\n",
    "area = 0.5 * (b * h)\n",
    "print(f\"The area of triangle is: {area}\")\n"
   ]
  },
  {
   "cell_type": "markdown",
   "metadata": {},
   "source": [
    "5"
   ]
  },
  {
   "cell_type": "code",
   "execution_count": null,
   "metadata": {},
   "outputs": [],
   "source": [
    "# Write a script that prompts the user to enter side a, side b, and side c of the triangle. Calculate the perimeter of the triangle (perimeter = a + b + c)\n",
    "\n",
    "a = int(input(\"Enter the value of a: \"))\n",
    "b = int(input(\"Enter the value of b: \"))\n",
    "c = int(input(\"Enter the value of c: \"))\n",
    "\n",
    "paremeter =  a + b + c\n",
    "print(f\"The paremeter of a triangle is: {paremeter}\")\n"
   ]
  },
  {
   "cell_type": "markdown",
   "metadata": {},
   "source": [
    "6"
   ]
  },
  {
   "cell_type": "code",
   "execution_count": null,
   "metadata": {},
   "outputs": [],
   "source": [
    "# Get length and width of a rectangle using prompt. Calculate its area (area = length x width) and perimeter (perimeter = 2 x (length + width))\n",
    "\n",
    "length = int(input(\"Enter the area: \"))\n",
    "width = int(input(\"Enter the width: \"))\n",
    "\n",
    "area = length * width\n",
    "print(f\"The area is: \")\n",
    "\n",
    "print(\"---------------------------------------\")\n",
    "\n",
    "length = int(input(\"Enter the length: \"))\n",
    "width = int(input(\"Enter the width: \"))\n",
    "\n",
    "perimeter = 2 * (length * width)\n",
    "print(f\"The perimeter is: {perimeter}\")"
   ]
  },
  {
   "cell_type": "markdown",
   "metadata": {},
   "source": [
    "7"
   ]
  },
  {
   "cell_type": "code",
   "execution_count": 1,
   "metadata": {},
   "outputs": [
    {
     "name": "stdout",
     "output_type": "stream",
     "text": [
      "The area is: 50.24\n",
      "The circumference is: 37.68\n"
     ]
    }
   ],
   "source": [
    "# Get radius of a circle using prompt. Calculate the area (area = pi x r x r) and circumference (c = 2 x pi x r) where pi = 3.14\n",
    "\n",
    "r = int(input(\"Enter the value of radius: \"))\n",
    "pi = 3.14\n",
    "\n",
    "area = pi * r * r\n",
    "print(f\"The area is: {area}\")\n",
    "\n",
    "# circumference \n",
    "\n",
    "r = int(input(\"Enter the radius value: \"))\n",
    "pi = 3.14\n",
    "\n",
    "c = 2 * pi * r\n",
    "print(f\"The circumference is: {c}\")\n"
   ]
  },
  {
   "cell_type": "markdown",
   "metadata": {},
   "source": [
    "8"
   ]
  },
  {
   "cell_type": "code",
   "execution_count": 2,
   "metadata": {},
   "outputs": [
    {
     "name": "stdout",
     "output_type": "stream",
     "text": [
      "x-intercept value is: 1.3333333333333333\n",
      "y-intercept value is: 8\n"
     ]
    }
   ],
   "source": [
    "# Calculate the slope, x-intercept and y-intercept of y = 2x -2\n",
    "# x-intercept\n",
    "\n",
    "y = int(input(\"Enter the value of y: \"))\n",
    "x = (y + 2) / 3\n",
    "\n",
    "print(f\"x-intercept value is: {x}\")\n",
    "\n",
    "# y-intercept\n",
    "x = int(input(\"Enter value for x: \"))\n",
    "y = (2 * x) -2\n",
    "\n",
    "print(f\"y-intercept value is: {y}\")\n"
   ]
  },
  {
   "cell_type": "markdown",
   "metadata": {},
   "source": [
    "9"
   ]
  },
  {
   "cell_type": "code",
   "execution_count": 3,
   "metadata": {},
   "outputs": [
    {
     "name": "stdout",
     "output_type": "stream",
     "text": [
      "The slope(m) is: 2.0\n"
     ]
    }
   ],
   "source": [
    "# Slope is (m = y2-y1/x2-x1). Find the slope and Euclidean distance between point (2, 2) and point (6,10)\n",
    "\n",
    "x1 = 2\n",
    "x2 = 6\n",
    "y1 = 2\n",
    "y2 = 10\n",
    "\n",
    "m = (y2 - y1) / (x2- x1)\n",
    "print(f\"The slope(m) is: {m}\")"
   ]
  },
  {
   "cell_type": "markdown",
   "metadata": {},
   "source": [
    "12"
   ]
  },
  {
   "cell_type": "code",
   "execution_count": 8,
   "metadata": {},
   "outputs": [
    {
     "name": "stdout",
     "output_type": "stream",
     "text": [
      "False\n",
      "False\n",
      "False\n",
      "False\n"
     ]
    }
   ],
   "source": [
    "# Find the length of 'python' and 'dragon' and make a falsy comparison statement.\n",
    "\n",
    "p = len(\"python\")\n",
    "d = len(\"dragon\")\n",
    "\n",
    "print(p > d)\n",
    "print(p != d)\n",
    "print(d < p)\n",
    "print((p != d) and (d < p))\n"
   ]
  }
 ],
 "metadata": {
  "kernelspec": {
   "display_name": "arewa_ds",
   "language": "python",
   "name": "arewa_ds"
  },
  "language_info": {
   "codemirror_mode": {
    "name": "ipython",
    "version": 3
   },
   "file_extension": ".py",
   "mimetype": "text/x-python",
   "name": "python",
   "nbconvert_exporter": "python",
   "pygments_lexer": "ipython3",
   "version": "3.10.12"
  }
 },
 "nbformat": 4,
 "nbformat_minor": 2
}
