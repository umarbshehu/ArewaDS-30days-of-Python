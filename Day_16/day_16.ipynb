{
 "cells": [
  {
   "cell_type": "markdown",
   "metadata": {},
   "source": [
    "## EXERCISE 16"
   ]
  },
  {
   "cell_type": "markdown",
   "metadata": {},
   "source": [
    "### 1"
   ]
  },
  {
   "cell_type": "code",
   "execution_count": 4,
   "metadata": {},
   "outputs": [
    {
     "name": "stdout",
     "output_type": "stream",
     "text": [
      "2023-12-27 11:21:36.797044\n"
     ]
    }
   ],
   "source": [
    "from datetime import datetime, timedelta\n",
    "\n",
    "# Get the current date and time\n",
    "now = datetime.now()\n",
    "print(now)"
   ]
  },
  {
   "cell_type": "markdown",
   "metadata": {},
   "source": [
    "### 2"
   ]
  },
  {
   "cell_type": "code",
   "execution_count": 5,
   "metadata": {},
   "outputs": [
    {
     "name": "stdout",
     "output_type": "stream",
     "text": [
      "Current Day: 27\n",
      "Current Month: 12\n",
      "Current Year: 2023\n",
      "Current Hour: 11\n",
      "Current Minute: 21\n"
     ]
    }
   ],
   "source": [
    "# Get individual components\n",
    "current_day = now.day\n",
    "current_month = now.month\n",
    "current_year = now.year\n",
    "current_hour = now.hour\n",
    "current_minute = now.minute\n",
    "\n",
    "print(f\"Current Day: {current_day}\")\n",
    "print(f\"Current Month: {current_month}\")\n",
    "print(f\"Current Year: {current_year}\")\n",
    "print(f\"Current Hour: {current_hour}\")\n",
    "print(f\"Current Minute: {current_minute}\")"
   ]
  },
  {
   "cell_type": "markdown",
   "metadata": {},
   "source": [
    "### 3"
   ]
  },
  {
   "cell_type": "code",
   "execution_count": 6,
   "metadata": {},
   "outputs": [
    {
     "name": "stdout",
     "output_type": "stream",
     "text": [
      "Timestamp: 1703672496.797044\n"
     ]
    }
   ],
   "source": [
    "# Get timestamp\n",
    "timestamp = now.timestamp()\n",
    "print(f\"Timestamp: {timestamp}\")"
   ]
  },
  {
   "cell_type": "markdown",
   "metadata": {},
   "source": [
    "### 4"
   ]
  },
  {
   "cell_type": "code",
   "execution_count": 7,
   "metadata": {},
   "outputs": [
    {
     "name": "stdout",
     "output_type": "stream",
     "text": [
      "Formatted Date: 12/27/2023, 11:21:36\n"
     ]
    }
   ],
   "source": [
    "# Format the current date\n",
    "formatted_date = now.strftime(\"%m/%d/%Y, %H:%M:%S\")\n",
    "print(f\"Formatted Date: {formatted_date}\")"
   ]
  },
  {
   "cell_type": "markdown",
   "metadata": {},
   "source": [
    "### 5"
   ]
  },
  {
   "cell_type": "code",
   "execution_count": 8,
   "metadata": {},
   "outputs": [
    {
     "name": "stdout",
     "output_type": "stream",
     "text": [
      "Converted Time String to Time: 2019-12-05 00:00:00\n"
     ]
    }
   ],
   "source": [
    "# Convert a time string to time\n",
    "time_string = \"5 December, 2019\"\n",
    "time_object = datetime.strptime(time_string, \"%d %B, %Y\")\n",
    "print(f\"Converted Time String to Time: {time_object}\")\n"
   ]
  },
  {
   "cell_type": "markdown",
   "metadata": {},
   "source": [
    "### 6"
   ]
  },
  {
   "cell_type": "code",
   "execution_count": 9,
   "metadata": {},
   "outputs": [
    {
     "name": "stdout",
     "output_type": "stream",
     "text": [
      "Time Difference to New Year: 4 days, 12:38:23.202956\n"
     ]
    }
   ],
   "source": [
    "# Calculate time difference between now and new year\n",
    "new_year = datetime(now.year + 1, 1, 1)\n",
    "time_difference_to_new_year = new_year - now\n",
    "print(f\"Time Difference to New Year: {time_difference_to_new_year}\")\n"
   ]
  },
  {
   "cell_type": "markdown",
   "metadata": {},
   "source": [
    "### 7"
   ]
  },
  {
   "cell_type": "code",
   "execution_count": 10,
   "metadata": {},
   "outputs": [
    {
     "name": "stdout",
     "output_type": "stream",
     "text": [
      "Time Difference to 1 January 1970: 19718 days, 11:21:36.797044\n"
     ]
    }
   ],
   "source": [
    "# Calculate time difference between 1 January 1970 and now (UNIX epoch)\n",
    "epoch = datetime(1970, 1, 1)\n",
    "time_difference_to_epoch = now - epoch\n",
    "print(f\"Time Difference to 1 January 1970: {time_difference_to_epoch}\")\n"
   ]
  },
  {
   "cell_type": "code",
   "execution_count": null,
   "metadata": {},
   "outputs": [],
   "source": []
  },
  {
   "cell_type": "markdown",
   "metadata": {},
   "source": [
    "### 8"
   ]
  },
  {
   "cell_type": "markdown",
   "metadata": {},
   "source": [
    "Examples of using datetime module:\n",
    "1. Time series analysis: Analyzing data over time\n",
    "\n",
    "2. Getting timestamps for activities in an application\n",
    "\n",
    "3. Logging activities with timestamps\n",
    "\n",
    "4. Adding posts on a blog with publication timestamps\n",
    "\n",
    "5. Scheduling tasks at specific times in a script or application\n",
    "\n",
    "6. Calculating time intervals and durations in various applications"
   ]
  }
 ],
 "metadata": {
  "kernelspec": {
   "display_name": "arewa_ds",
   "language": "python",
   "name": "arewa_ds"
  },
  "language_info": {
   "codemirror_mode": {
    "name": "ipython",
    "version": 3
   },
   "file_extension": ".py",
   "mimetype": "text/x-python",
   "name": "python",
   "nbconvert_exporter": "python",
   "pygments_lexer": "ipython3",
   "version": "3.10.12"
  }
 },
 "nbformat": 4,
 "nbformat_minor": 2
}
