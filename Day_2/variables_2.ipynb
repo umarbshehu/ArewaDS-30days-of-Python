{
 "cells": [
  {
   "cell_type": "markdown",
   "metadata": {},
   "source": [
    "# Exercises: Level 2"
   ]
  },
  {
   "cell_type": "markdown",
   "metadata": {},
   "source": [
    "1"
   ]
  },
  {
   "cell_type": "code",
   "execution_count": null,
   "metadata": {},
   "outputs": [],
   "source": []
  },
  {
   "cell_type": "code",
   "execution_count": 2,
   "metadata": {},
   "outputs": [
    {
     "name": "stdout",
     "output_type": "stream",
     "text": [
      "<class 'int'>\n",
      "<class 'str'>\n",
      "<class 'float'>\n",
      "<class 'list'>\n",
      "<class 'complex'>\n",
      "<class 'tuple'>\n",
      "<class 'dict'>\n",
      "<class 'set'>\n"
     ]
    }
   ],
   "source": [
    "# checking data types\n",
    "\n",
    "print(type(3))\n",
    "print(type(\"name\"))\n",
    "print(type(4.5))\n",
    "print(type([1, 2, 6, 9]))\n",
    "print(type(2 +5j))\n",
    "print(type((3, 6, 7)))\n",
    "print(type({\"age\": 34}))\n",
    "print(type({\"name\", \"country\", \"gender\"}))"
   ]
  },
  {
   "cell_type": "markdown",
   "metadata": {},
   "source": [
    "2"
   ]
  },
  {
   "cell_type": "code",
   "execution_count": 8,
   "metadata": {},
   "outputs": [
    {
     "name": "stdout",
     "output_type": "stream",
     "text": [
      "Length of first name:  4\n"
     ]
    }
   ],
   "source": [
    "first_name = \"umar\"\n",
    "print(f\"Length of first name:  {len(first_name.title())}\")"
   ]
  },
  {
   "cell_type": "markdown",
   "metadata": {},
   "source": [
    "3"
   ]
  },
  {
   "cell_type": "code",
   "execution_count": 11,
   "metadata": {},
   "outputs": [
    {
     "name": "stdout",
     "output_type": "stream",
     "text": [
      "Length of first name: 5\n",
      "Length of last name: 3\n",
      "The length of fist name and last name are: 5 and 3\n"
     ]
    }
   ],
   "source": [
    "# length of first and last name\n",
    "\n",
    "first_name = \"henry\"\n",
    "last_name = \"chu\"\n",
    "\n",
    "print(f\"Length of first name: {len(first_name)}\")\n",
    "print(f\"Length of last name: {len(last_name)}\")\n",
    "print(f\"The length of fist name and last name are: {len(first_name)} and {len(last_name)}\")"
   ]
  },
  {
   "cell_type": "markdown",
   "metadata": {},
   "source": [
    "4 and 5"
   ]
  },
  {
   "cell_type": "code",
   "execution_count": 16,
   "metadata": {},
   "outputs": [
    {
     "name": "stdout",
     "output_type": "stream",
     "text": [
      "9\n",
      "1\n",
      "20\n",
      "1.25\n",
      "4\n",
      "625\n",
      "1\n",
      "2827.7999999999997\n",
      "188.51999999999998\n"
     ]
    },
    {
     "name": "stdout",
     "output_type": "stream",
     "text": [
      "50.272\n"
     ]
    }
   ],
   "source": [
    "# Declaring two variables num_one and num_two\n",
    "num_one = 5\n",
    "num_two = 4\n",
    "\n",
    "# Add num_one and num_two and assign the value to a variable total\n",
    "total = num_one + num_two\n",
    "print(total)\n",
    "\n",
    "# Subtract num_two from num_one and assign the value to a variable diff\n",
    "diff = num_one - num_two\n",
    "print(diff)\n",
    "\n",
    "# Multiply num_two and num_one and assign the value to a variable product\n",
    "product = num_two * num_one \n",
    "print(product)\n",
    "\n",
    "# Divide num_one by num_two and assign the value to a variable division\n",
    "division = num_one / num_two\n",
    "print(division)\n",
    "\n",
    "# Use modulus division to find num_two divided by num_one and assign the value to a variable remainder\n",
    "reminder = num_two % num_one \n",
    "print(reminder)\n",
    "\n",
    "# Calculate num_one to the power of num_two and assign the value to a variable exp\n",
    "exp = num_one ** num_two\n",
    "print(exp)\n",
    "\n",
    "# Find floor division of num_one by num_two and assign the value to a variable floor_division\n",
    "floor_division = num_one // num_two\n",
    "print(floor_division)\n",
    "\n",
    "# The radius of a circle is 30 meters\n",
    "# Calculate the area of a circle and assign the value to a variable name of area_of_circle\n",
    "pi = 3.142\n",
    "r = 30\n",
    "\n",
    "area_of_circle = (30 ** 2) * 3.142\n",
    "print(area_of_circle)\n",
    "\n",
    "# Calculate the circumference of a circle and assign the value to a variable name of circum_of_circle\n",
    "pi = 3.142\n",
    "r = 30\n",
    "\n",
    "circum_of_circle = 2 * 30 * (3.142)\n",
    "print(circum_of_circle)\n",
    "\n",
    "# Take radius as user input and calculate the area.\n",
    "radius = int(input(\"Enter a value for radius: \"))\n",
    "\n",
    "area_of_circle = (radius ** 2) * 3.142\n",
    "print(area_of_circle)\n",
    "\n",
    "# \n",
    "\n",
    "\n",
    "\n",
    "\n",
    "\n"
   ]
  },
  {
   "cell_type": "markdown",
   "metadata": {},
   "source": [
    "6"
   ]
  },
  {
   "cell_type": "code",
   "execution_count": null,
   "metadata": {},
   "outputs": [],
   "source": [
    "# Use the built-in input function to get first name, last name, country and age from a user and store the value to their corresponding variable names\n",
    "\n",
    "first_name = input(\"Enter your first name: \")\n",
    "last_name = input(\"Enter your last name: \")\n",
    "country = input(\"Enter your country name: \")\n",
    "age = input(\"Enter your age: \")\n",
    "\n",
    "print(first_name)\n",
    "print(last_name)\n",
    "print(country)\n",
    "print(age)\n"
   ]
  },
  {
   "cell_type": "markdown",
   "metadata": {},
   "source": [
    "7"
   ]
  },
  {
   "cell_type": "code",
   "execution_count": null,
   "metadata": {},
   "outputs": [],
   "source": [
    "# Run help('keywords') in Python shell or in your file to check for the Python reserved words or keywords\n"
   ]
  }
 ],
 "metadata": {
  "kernelspec": {
   "display_name": "arewa_ds",
   "language": "python",
   "name": "arewa_ds"
  },
  "language_info": {
   "codemirror_mode": {
    "name": "ipython",
    "version": 3
   },
   "file_extension": ".py",
   "mimetype": "text/x-python",
   "name": "python",
   "nbconvert_exporter": "python",
   "pygments_lexer": "ipython3",
   "version": "3.10.12"
  }
 },
 "nbformat": 4,
 "nbformat_minor": 2
}
